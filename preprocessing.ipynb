{
 "cells": [
  {
   "cell_type": "code",
   "execution_count": 1,
   "id": "27c5de7c-ff98-4e48-b92f-28ed60be8084",
   "metadata": {},
   "outputs": [],
   "source": [
    "import pandas as pd\n",
    "import matplotlib.pyplot as plt\n",
    "import numpy as np\n",
    "import cv2"
   ]
  },
  {
   "cell_type": "code",
   "execution_count": 2,
   "id": "935d1bd6-9b41-47ec-bc88-514f1a6f82f4",
   "metadata": {},
   "outputs": [],
   "source": [
    "df=pd.read_csv('emnist-byclass-train.csv',header=None)"
   ]
  },
  {
   "cell_type": "code",
   "execution_count": 6,
   "id": "7c2f1fef-4535-4866-af71-9e6e4d85c818",
   "metadata": {},
   "outputs": [
    {
     "data": {
      "text/html": [
       "<div>\n",
       "<style scoped>\n",
       "    .dataframe tbody tr th:only-of-type {\n",
       "        vertical-align: middle;\n",
       "    }\n",
       "\n",
       "    .dataframe tbody tr th {\n",
       "        vertical-align: top;\n",
       "    }\n",
       "\n",
       "    .dataframe thead th {\n",
       "        text-align: right;\n",
       "    }\n",
       "</style>\n",
       "<table border=\"1\" class=\"dataframe\">\n",
       "  <thead>\n",
       "    <tr style=\"text-align: right;\">\n",
       "      <th></th>\n",
       "      <th>0</th>\n",
       "      <th>1</th>\n",
       "      <th>2</th>\n",
       "      <th>3</th>\n",
       "      <th>4</th>\n",
       "      <th>5</th>\n",
       "      <th>6</th>\n",
       "      <th>7</th>\n",
       "      <th>8</th>\n",
       "      <th>9</th>\n",
       "      <th>...</th>\n",
       "      <th>775</th>\n",
       "      <th>776</th>\n",
       "      <th>777</th>\n",
       "      <th>778</th>\n",
       "      <th>779</th>\n",
       "      <th>780</th>\n",
       "      <th>781</th>\n",
       "      <th>782</th>\n",
       "      <th>783</th>\n",
       "      <th>784</th>\n",
       "    </tr>\n",
       "  </thead>\n",
       "  <tbody>\n",
       "    <tr>\n",
       "      <th>0</th>\n",
       "      <td>35</td>\n",
       "      <td>0</td>\n",
       "      <td>0</td>\n",
       "      <td>0</td>\n",
       "      <td>0</td>\n",
       "      <td>0</td>\n",
       "      <td>0</td>\n",
       "      <td>0</td>\n",
       "      <td>0</td>\n",
       "      <td>0</td>\n",
       "      <td>...</td>\n",
       "      <td>0</td>\n",
       "      <td>0</td>\n",
       "      <td>0</td>\n",
       "      <td>0</td>\n",
       "      <td>0</td>\n",
       "      <td>0</td>\n",
       "      <td>0</td>\n",
       "      <td>0</td>\n",
       "      <td>0</td>\n",
       "      <td>0</td>\n",
       "    </tr>\n",
       "    <tr>\n",
       "      <th>1</th>\n",
       "      <td>36</td>\n",
       "      <td>0</td>\n",
       "      <td>0</td>\n",
       "      <td>0</td>\n",
       "      <td>0</td>\n",
       "      <td>0</td>\n",
       "      <td>0</td>\n",
       "      <td>0</td>\n",
       "      <td>0</td>\n",
       "      <td>0</td>\n",
       "      <td>...</td>\n",
       "      <td>0</td>\n",
       "      <td>0</td>\n",
       "      <td>0</td>\n",
       "      <td>0</td>\n",
       "      <td>0</td>\n",
       "      <td>0</td>\n",
       "      <td>0</td>\n",
       "      <td>0</td>\n",
       "      <td>0</td>\n",
       "      <td>0</td>\n",
       "    </tr>\n",
       "    <tr>\n",
       "      <th>2</th>\n",
       "      <td>6</td>\n",
       "      <td>0</td>\n",
       "      <td>0</td>\n",
       "      <td>0</td>\n",
       "      <td>0</td>\n",
       "      <td>0</td>\n",
       "      <td>0</td>\n",
       "      <td>0</td>\n",
       "      <td>0</td>\n",
       "      <td>0</td>\n",
       "      <td>...</td>\n",
       "      <td>0</td>\n",
       "      <td>0</td>\n",
       "      <td>0</td>\n",
       "      <td>0</td>\n",
       "      <td>0</td>\n",
       "      <td>0</td>\n",
       "      <td>0</td>\n",
       "      <td>0</td>\n",
       "      <td>0</td>\n",
       "      <td>0</td>\n",
       "    </tr>\n",
       "    <tr>\n",
       "      <th>3</th>\n",
       "      <td>3</td>\n",
       "      <td>0</td>\n",
       "      <td>0</td>\n",
       "      <td>0</td>\n",
       "      <td>0</td>\n",
       "      <td>0</td>\n",
       "      <td>0</td>\n",
       "      <td>0</td>\n",
       "      <td>0</td>\n",
       "      <td>0</td>\n",
       "      <td>...</td>\n",
       "      <td>0</td>\n",
       "      <td>0</td>\n",
       "      <td>0</td>\n",
       "      <td>0</td>\n",
       "      <td>0</td>\n",
       "      <td>0</td>\n",
       "      <td>0</td>\n",
       "      <td>0</td>\n",
       "      <td>0</td>\n",
       "      <td>0</td>\n",
       "    </tr>\n",
       "    <tr>\n",
       "      <th>4</th>\n",
       "      <td>22</td>\n",
       "      <td>0</td>\n",
       "      <td>0</td>\n",
       "      <td>0</td>\n",
       "      <td>0</td>\n",
       "      <td>0</td>\n",
       "      <td>0</td>\n",
       "      <td>0</td>\n",
       "      <td>0</td>\n",
       "      <td>0</td>\n",
       "      <td>...</td>\n",
       "      <td>0</td>\n",
       "      <td>0</td>\n",
       "      <td>0</td>\n",
       "      <td>0</td>\n",
       "      <td>0</td>\n",
       "      <td>0</td>\n",
       "      <td>0</td>\n",
       "      <td>0</td>\n",
       "      <td>0</td>\n",
       "      <td>0</td>\n",
       "    </tr>\n",
       "    <tr>\n",
       "      <th>...</th>\n",
       "      <td>...</td>\n",
       "      <td>...</td>\n",
       "      <td>...</td>\n",
       "      <td>...</td>\n",
       "      <td>...</td>\n",
       "      <td>...</td>\n",
       "      <td>...</td>\n",
       "      <td>...</td>\n",
       "      <td>...</td>\n",
       "      <td>...</td>\n",
       "      <td>...</td>\n",
       "      <td>...</td>\n",
       "      <td>...</td>\n",
       "      <td>...</td>\n",
       "      <td>...</td>\n",
       "      <td>...</td>\n",
       "      <td>...</td>\n",
       "      <td>...</td>\n",
       "      <td>...</td>\n",
       "      <td>...</td>\n",
       "      <td>...</td>\n",
       "    </tr>\n",
       "    <tr>\n",
       "      <th>697927</th>\n",
       "      <td>40</td>\n",
       "      <td>0</td>\n",
       "      <td>0</td>\n",
       "      <td>0</td>\n",
       "      <td>0</td>\n",
       "      <td>0</td>\n",
       "      <td>0</td>\n",
       "      <td>0</td>\n",
       "      <td>0</td>\n",
       "      <td>0</td>\n",
       "      <td>...</td>\n",
       "      <td>0</td>\n",
       "      <td>0</td>\n",
       "      <td>0</td>\n",
       "      <td>0</td>\n",
       "      <td>0</td>\n",
       "      <td>0</td>\n",
       "      <td>0</td>\n",
       "      <td>0</td>\n",
       "      <td>0</td>\n",
       "      <td>0</td>\n",
       "    </tr>\n",
       "    <tr>\n",
       "      <th>697928</th>\n",
       "      <td>47</td>\n",
       "      <td>0</td>\n",
       "      <td>0</td>\n",
       "      <td>0</td>\n",
       "      <td>0</td>\n",
       "      <td>0</td>\n",
       "      <td>0</td>\n",
       "      <td>0</td>\n",
       "      <td>0</td>\n",
       "      <td>0</td>\n",
       "      <td>...</td>\n",
       "      <td>0</td>\n",
       "      <td>0</td>\n",
       "      <td>0</td>\n",
       "      <td>0</td>\n",
       "      <td>0</td>\n",
       "      <td>0</td>\n",
       "      <td>0</td>\n",
       "      <td>0</td>\n",
       "      <td>0</td>\n",
       "      <td>0</td>\n",
       "    </tr>\n",
       "    <tr>\n",
       "      <th>697929</th>\n",
       "      <td>5</td>\n",
       "      <td>0</td>\n",
       "      <td>0</td>\n",
       "      <td>0</td>\n",
       "      <td>0</td>\n",
       "      <td>0</td>\n",
       "      <td>0</td>\n",
       "      <td>0</td>\n",
       "      <td>0</td>\n",
       "      <td>0</td>\n",
       "      <td>...</td>\n",
       "      <td>0</td>\n",
       "      <td>0</td>\n",
       "      <td>0</td>\n",
       "      <td>0</td>\n",
       "      <td>0</td>\n",
       "      <td>0</td>\n",
       "      <td>0</td>\n",
       "      <td>0</td>\n",
       "      <td>0</td>\n",
       "      <td>0</td>\n",
       "    </tr>\n",
       "    <tr>\n",
       "      <th>697930</th>\n",
       "      <td>11</td>\n",
       "      <td>0</td>\n",
       "      <td>0</td>\n",
       "      <td>0</td>\n",
       "      <td>0</td>\n",
       "      <td>0</td>\n",
       "      <td>0</td>\n",
       "      <td>0</td>\n",
       "      <td>0</td>\n",
       "      <td>0</td>\n",
       "      <td>...</td>\n",
       "      <td>0</td>\n",
       "      <td>0</td>\n",
       "      <td>0</td>\n",
       "      <td>0</td>\n",
       "      <td>0</td>\n",
       "      <td>0</td>\n",
       "      <td>0</td>\n",
       "      <td>0</td>\n",
       "      <td>0</td>\n",
       "      <td>0</td>\n",
       "    </tr>\n",
       "    <tr>\n",
       "      <th>697931</th>\n",
       "      <td>22</td>\n",
       "      <td>0</td>\n",
       "      <td>0</td>\n",
       "      <td>0</td>\n",
       "      <td>0</td>\n",
       "      <td>0</td>\n",
       "      <td>0</td>\n",
       "      <td>0</td>\n",
       "      <td>0</td>\n",
       "      <td>0</td>\n",
       "      <td>...</td>\n",
       "      <td>0</td>\n",
       "      <td>0</td>\n",
       "      <td>0</td>\n",
       "      <td>0</td>\n",
       "      <td>0</td>\n",
       "      <td>0</td>\n",
       "      <td>0</td>\n",
       "      <td>0</td>\n",
       "      <td>0</td>\n",
       "      <td>0</td>\n",
       "    </tr>\n",
       "  </tbody>\n",
       "</table>\n",
       "<p>697932 rows × 785 columns</p>\n",
       "</div>"
      ],
      "text/plain": [
       "        0    1    2    3    4    5    6    7    8    9    ...  775  776  777  \\\n",
       "0        35    0    0    0    0    0    0    0    0    0  ...    0    0    0   \n",
       "1        36    0    0    0    0    0    0    0    0    0  ...    0    0    0   \n",
       "2         6    0    0    0    0    0    0    0    0    0  ...    0    0    0   \n",
       "3         3    0    0    0    0    0    0    0    0    0  ...    0    0    0   \n",
       "4        22    0    0    0    0    0    0    0    0    0  ...    0    0    0   \n",
       "...     ...  ...  ...  ...  ...  ...  ...  ...  ...  ...  ...  ...  ...  ...   \n",
       "697927   40    0    0    0    0    0    0    0    0    0  ...    0    0    0   \n",
       "697928   47    0    0    0    0    0    0    0    0    0  ...    0    0    0   \n",
       "697929    5    0    0    0    0    0    0    0    0    0  ...    0    0    0   \n",
       "697930   11    0    0    0    0    0    0    0    0    0  ...    0    0    0   \n",
       "697931   22    0    0    0    0    0    0    0    0    0  ...    0    0    0   \n",
       "\n",
       "        778  779  780  781  782  783  784  \n",
       "0         0    0    0    0    0    0    0  \n",
       "1         0    0    0    0    0    0    0  \n",
       "2         0    0    0    0    0    0    0  \n",
       "3         0    0    0    0    0    0    0  \n",
       "4         0    0    0    0    0    0    0  \n",
       "...     ...  ...  ...  ...  ...  ...  ...  \n",
       "697927    0    0    0    0    0    0    0  \n",
       "697928    0    0    0    0    0    0    0  \n",
       "697929    0    0    0    0    0    0    0  \n",
       "697930    0    0    0    0    0    0    0  \n",
       "697931    0    0    0    0    0    0    0  \n",
       "\n",
       "[697932 rows x 785 columns]"
      ]
     },
     "execution_count": 6,
     "metadata": {},
     "output_type": "execute_result"
    }
   ],
   "source": [
    "df"
   ]
  },
  {
   "cell_type": "code",
   "execution_count": 19,
   "id": "7cbb668f-1029-46f8-b01d-7096ed99a397",
   "metadata": {},
   "outputs": [],
   "source": [
    "def imgpro(img):\n",
    "    imgg = img.reshape(28,28)\n",
    "    imgg=cv2.flip(imgg,0)\n",
    "    imgg = cv2.rotate(imgg, cv2.ROTATE_90_CLOCKWISE)\n",
    "    return imgg"
   ]
  },
  {
   "cell_type": "code",
   "execution_count": 3,
   "id": "c65fdbec-5fbb-4dda-8a27-31fbeafc14b4",
   "metadata": {},
   "outputs": [],
   "source": [
    "X=np.array(df.iloc[:,1:])\n",
    "Y=np.array(df.iloc[:,0])"
   ]
  },
  {
   "cell_type": "code",
   "execution_count": 5,
   "id": "459eba9c-76c6-4046-ae3b-cc687f1603e1",
   "metadata": {},
   "outputs": [
    {
     "data": {
      "text/plain": [
       "<matplotlib.image.AxesImage at 0x1af224fe100>"
      ]
     },
     "execution_count": 5,
     "metadata": {},
     "output_type": "execute_result"
    },
    {
     "data": {
      "image/png": "[encoded data removed]",
      "text/plain": [
       "<Figure size 432x288 with 1 Axes>"
      ]
     },
     "metadata": {
      "needs_background": "light"
     },
     "output_type": "display_data"
    }
   ],
   "source": [
    "img = X[11]\n",
    "img = img.reshape(28,28)\n",
    "imgg=cv2.flip(img,0)\n",
    "imgg = cv2.rotate(imgg, cv2.ROTATE_90_CLOCKWISE)\n",
    "plt.imshow(imgg)\n",
    "# print(df.iloc[11,0])"
   ]
  },
  {
   "cell_type": "code",
   "execution_count": 17,
   "id": "f99bcf3e-652c-45e0-a329-be03694ecb89",
   "metadata": {},
   "outputs": [
    {
     "ename": "NameError",
     "evalue": "name 'X_test' is not defined",
     "output_type": "error",
     "traceback": [
      "\u001b[1;31m---------------------------------------------------------------------------\u001b[0m",
      "\u001b[1;31mNameError\u001b[0m                                 Traceback (most recent call last)",
      "\u001b[1;32m~\\AppData\\Local\\Temp/ipykernel_13344/715444358.py\u001b[0m in \u001b[0;36m<module>\u001b[1;34m\u001b[0m\n\u001b[0;32m      2\u001b[0m \u001b[1;32mfor\u001b[0m \u001b[0mi\u001b[0m \u001b[1;32min\u001b[0m \u001b[0mrange\u001b[0m\u001b[1;33m(\u001b[0m\u001b[1;36m50\u001b[0m\u001b[1;33m)\u001b[0m\u001b[1;33m:\u001b[0m\u001b[1;33m\u001b[0m\u001b[1;33m\u001b[0m\u001b[0m\n\u001b[0;32m      3\u001b[0m     \u001b[0mplt\u001b[0m\u001b[1;33m.\u001b[0m\u001b[0msubplot\u001b[0m\u001b[1;33m(\u001b[0m\u001b[1;36m5\u001b[0m\u001b[1;33m,\u001b[0m\u001b[1;36m10\u001b[0m\u001b[1;33m,\u001b[0m\u001b[0mi\u001b[0m\u001b[1;33m+\u001b[0m\u001b[1;36m1\u001b[0m\u001b[1;33m)\u001b[0m\u001b[1;33m\u001b[0m\u001b[1;33m\u001b[0m\u001b[0m\n\u001b[1;32m----> 4\u001b[1;33m     \u001b[0mplt\u001b[0m\u001b[1;33m.\u001b[0m\u001b[0mimshow\u001b[0m\u001b[1;33m(\u001b[0m\u001b[0mX_test\u001b[0m\u001b[1;33m[\u001b[0m\u001b[0mi\u001b[0m\u001b[1;33m]\u001b[0m\u001b[1;33m,\u001b[0m \u001b[0mcmap\u001b[0m\u001b[1;33m=\u001b[0m\u001b[1;34m'gray'\u001b[0m\u001b[1;33m)\u001b[0m\u001b[1;33m\u001b[0m\u001b[1;33m\u001b[0m\u001b[0m\n\u001b[0m\u001b[0;32m      5\u001b[0m     \u001b[0mpred\u001b[0m \u001b[1;33m=\u001b[0m \u001b[0mpredi\u001b[0m\u001b[1;33m[\u001b[0m\u001b[0mi\u001b[0m\u001b[1;33m]\u001b[0m\u001b[1;33m.\u001b[0m\u001b[0margmax\u001b[0m\u001b[1;33m(\u001b[0m\u001b[1;33m)\u001b[0m\u001b[1;33m\u001b[0m\u001b[1;33m\u001b[0m\u001b[0m\n\u001b[0;32m      6\u001b[0m     \u001b[0mfinal\u001b[0m\u001b[1;33m=\u001b[0m\u001b[0mtranslate\u001b[0m\u001b[1;33m(\u001b[0m\u001b[0mpred\u001b[0m\u001b[1;33m)\u001b[0m\u001b[1;33m\u001b[0m\u001b[1;33m\u001b[0m\u001b[0m\n",
      "\u001b[1;31mNameError\u001b[0m: name 'X_test' is not defined"
     ]
    },
    {
     "data": {
      "image/png": "[encoded data removed]",
      "text/plain": [
       "<Figure size 1440x720 with 1 Axes>"
      ]
     },
     "metadata": {
      "needs_background": "light"
     },
     "output_type": "display_data"
    }
   ],
   "source": [
    "plt.figure(figsize=(20,10))\n",
    "for i in range(50):\n",
    "    plt.subplot(5,10,i+1)\n",
    "    plt.imshow(X_test[i], cmap='gray')\n",
    "    pred = predi[i].argmax()\n",
    "    final=translate(pred)\n",
    "    plt.title(\"predicted: {}\".format(final))\n",
    "    plt.axis('off')\n",
    "\n",
    "plt.show()"
   ]
  },
  {
   "cell_type": "code",
   "execution_count": 16,
   "id": "880d6353-4004-4659-ae56-eec76465eccf",
   "metadata": {
    "collapsed": true,
    "jupyter": {
     "outputs_hidden": true
    },
    "tags": []
   },
   "outputs": [
    {
     "data": {
      "text/plain": [
       "array([[255, 255, 255, 255, 255, 255, 255, 255, 255, 255, 255, 255, 255,\n",
       "        255, 255, 255, 255, 255, 255, 255, 255, 255, 255, 255, 255, 255,\n",
       "        255, 255],\n",
       "       [255, 255, 255, 255, 255, 255, 255, 255, 255, 255, 255, 255, 255,\n",
       "        255, 255, 255, 255, 255, 255, 255, 255, 255, 255, 255, 255, 255,\n",
       "        255, 255],\n",
       "       [255, 255, 255, 255, 255, 255, 255, 255, 255, 255, 255, 255, 255,\n",
       "        254, 254, 254, 254, 254, 254, 254, 254, 254, 254, 255, 255, 255,\n",
       "        255, 255],\n",
       "       [252, 253, 251, 251, 253, 251, 252, 254, 254, 253, 253, 251, 250,\n",
       "        251, 251, 254, 255, 255, 255, 254, 253, 251, 249, 250, 252, 255,\n",
       "        255, 255],\n",
       "       [250, 252, 249, 249, 252, 249, 251, 254, 252, 251, 253, 251, 243,\n",
       "        232, 209, 198, 202, 218, 224, 233, 246, 252, 252, 252, 252, 254,\n",
       "        254, 254],\n",
       "       [254, 253, 253, 253, 253, 252, 252, 254, 255, 254, 244, 187, 119,\n",
       "         75,  39,  29,  33,  46,  55,  71, 108, 162, 198, 234, 252, 254,\n",
       "        254, 254],\n",
       "       [255, 255, 255, 255, 254, 254, 254, 254, 255, 242, 134,  27,  16,\n",
       "         35,  67,  93,  96,  82,  64,  41,  26,  17,  29,  81, 166, 239,\n",
       "        253, 253],\n",
       "       [255, 255, 255, 255, 255, 255, 255, 255, 249, 152,  24,  42, 143,\n",
       "        205, 233, 244, 245, 241, 233, 217, 192, 136,  87,  38,  24, 112,\n",
       "        228, 254],\n",
       "       [255, 255, 255, 255, 255, 255, 255, 255, 227,  61,  36, 183, 249,\n",
       "        255, 254, 254, 254, 254, 254, 255, 255, 251, 239, 197,  91,  18,\n",
       "        127, 243],\n",
       "       [255, 255, 255, 255, 255, 255, 255, 255, 242, 128,  58, 196, 254,\n",
       "        253, 253, 253, 253, 253, 249, 200, 203, 250, 255, 255, 223,  83,\n",
       "         39, 193],\n",
       "       [255, 255, 255, 255, 255, 255, 255, 254, 254, 242, 173, 197, 253,\n",
       "        253, 253, 254, 253, 254, 219,  63,  83, 233, 255, 254, 255, 179,\n",
       "         33, 142],\n",
       "       [255, 255, 255, 255, 255, 255, 255, 255, 254, 254, 253, 252, 254,\n",
       "        253, 253, 254, 253, 254, 173,  17,  57, 225, 255, 254, 255, 198,\n",
       "         35, 122],\n",
       "       [255, 255, 255, 255, 255, 255, 255, 255, 254, 254, 254, 255, 254,\n",
       "        253, 253, 253, 254, 245, 104,   2, 107, 243, 255, 254, 255, 188,\n",
       "         35, 146],\n",
       "       [255, 255, 255, 255, 255, 255, 255, 255, 255, 255, 255, 255, 255,\n",
       "        254, 254, 254, 255, 229,  67,  22, 181, 255, 254, 253, 253, 144,\n",
       "         30, 176],\n",
       "       [255, 255, 255, 255, 255, 255, 255, 255, 255, 255, 255, 255, 255,\n",
       "        255, 255, 255, 255, 183,  24,  76, 232, 253, 253, 254, 230,  71,\n",
       "         69, 217],\n",
       "       [255, 255, 255, 255, 255, 255, 255, 255, 255, 255, 255, 255, 255,\n",
       "        255, 255, 255, 248, 116,  16, 153, 249, 250, 251, 251, 158,  30,\n",
       "        153, 249],\n",
       "       [255, 255, 255, 255, 255, 255, 255, 255, 255, 255, 255, 255, 255,\n",
       "        255, 255, 255, 226,  61,  48, 214, 252, 251, 254, 211,  54,  81,\n",
       "        229, 252],\n",
       "       [255, 255, 255, 255, 255, 255, 255, 255, 255, 255, 255, 255, 255,\n",
       "        255, 255, 255, 181,  24, 106, 245, 253, 254, 236, 104,  39, 181,\n",
       "        250, 189],\n",
       "       [255, 255, 255, 255, 255, 255, 255, 255, 255, 255, 255, 254, 252,\n",
       "        252, 255, 249, 122,  23, 171, 253, 254, 247, 140,  30, 138, 246,\n",
       "        251, 166],\n",
       "       [255, 255, 255, 255, 255, 255, 255, 255, 255, 255, 255, 227, 136,\n",
       "        137, 208, 205,  55,  65, 226, 254, 239, 149,  46, 130, 233, 254,\n",
       "        254, 243],\n",
       "       [254, 253, 254, 255, 255, 255, 255, 255, 255, 252, 253, 218,  81,\n",
       "         39,  58,  54,  11, 106, 205, 181,  98,  28, 112, 237, 254, 254,\n",
       "        253, 252],\n",
       "       [253, 253, 254, 255, 255, 255, 255, 255, 255, 250, 249, 247, 223,\n",
       "        198,  92,   0,   5,  38,  48,  33,  53, 133, 224, 251, 253, 254,\n",
       "        253, 252],\n",
       "       [254, 254, 254, 255, 255, 255, 255, 255, 255, 254, 252, 253, 255,\n",
       "        255, 165,  33,  66, 161, 157, 162, 210, 248, 253, 252, 253, 254,\n",
       "        254, 253],\n",
       "       [255, 255, 255, 255, 255, 255, 255, 255, 255, 255, 254, 254, 254,\n",
       "        254, 239, 195, 208, 252, 255, 255, 255, 255, 255, 254, 254, 255,\n",
       "        255, 254],\n",
       "       [255, 255, 255, 255, 255, 255, 255, 255, 255, 255, 255, 255, 255,\n",
       "        255, 254, 255, 255, 253, 254, 254, 254, 255, 255, 255, 255, 255,\n",
       "        255, 255],\n",
       "       [255, 255, 255, 255, 255, 255, 255, 255, 255, 255, 255, 255, 255,\n",
       "        255, 254, 254, 254, 253, 254, 254, 254, 255, 255, 255, 255, 255,\n",
       "        255, 254],\n",
       "       [255, 255, 255, 255, 255, 255, 255, 255, 255, 255, 255, 255, 255,\n",
       "        255, 254, 254, 254, 254, 254, 254, 254, 255, 255, 255, 255, 255,\n",
       "        255, 254],\n",
       "       [255, 255, 255, 255, 255, 255, 255, 255, 255, 255, 255, 255, 255,\n",
       "        255, 255, 255, 255, 255, 254, 254, 254, 255, 255, 255, 255, 255,\n",
       "        255, 255]], dtype=uint8)"
      ]
     },
     "execution_count": 16,
     "metadata": {},
     "output_type": "execute_result"
    }
   ],
   "source": [
    "im6"
   ]
  },
  {
   "cell_type": "code",
   "execution_count": 4,
   "id": "29ac37fa-3e2e-4a58-8b05-e862fd7055b0",
   "metadata": {},
   "outputs": [],
   "source": [
    "X=np.array(df.iloc[:,1:])\n",
    "Y=np.array(df.iloc[:,0])"
   ]
  },
  {
   "cell_type": "code",
   "execution_count": 23,
   "id": "ab46fc83-6551-4cae-808a-f24237541f63",
   "metadata": {},
   "outputs": [
    {
     "data": {
      "text/plain": [
       "(697932, 784)"
      ]
     },
     "execution_count": 23,
     "metadata": {},
     "output_type": "execute_result"
    }
   ],
   "source": [
    "X.shape"
   ]
  },
  {
   "cell_type": "code",
   "execution_count": 24,
   "id": "ea1cdb59-5098-42a5-9aa0-cc375ca0c0bb",
   "metadata": {},
   "outputs": [
    {
     "data": {
      "text/plain": [
       "(697932,)"
      ]
     },
     "execution_count": 24,
     "metadata": {},
     "output_type": "execute_result"
    }
   ],
   "source": [
    "Y.shape"
   ]
  },
  {
   "cell_type": "code",
   "execution_count": 25,
   "id": "78e87ae3-5dfd-45dc-bcb1-55769c32f34d",
   "metadata": {},
   "outputs": [],
   "source": [
    "from sklearn.model_selection import train_test_split"
   ]
  },
  {
   "cell_type": "code",
   "execution_count": 26,
   "id": "edaa92ee-7974-4aa7-9bd3-b6a9e7e4e48f",
   "metadata": {},
   "outputs": [],
   "source": [
    "X_train, X_test, y_train, y_test = train_test_split(X, Y, test_size=0.20)\n"
   ]
  },
  {
   "cell_type": "code",
   "execution_count": 532,
   "id": "f73d51bb-9f09-4148-b38b-a9b37197d8c7",
   "metadata": {},
   "outputs": [
    {
     "data": {
      "text/plain": [
       "((558345, 784), (558345,))"
      ]
     },
     "execution_count": 532,
     "metadata": {},
     "output_type": "execute_result"
    }
   ],
   "source": [
    "X_train.shape,y_train.shape"
   ]
  },
  {
   "cell_type": "code",
   "execution_count": 41,
   "id": "5b667935-3e10-44fa-97f6-e16bbcf48ce1",
   "metadata": {},
   "outputs": [],
   "source": [
    "X_train = X_train.reshape(X_train.shape[0],28,28,1)\n",
    "X_test = X_test.reshape(X_test.shape[0],28,28,1)"
   ]
  },
  {
   "cell_type": "code",
   "execution_count": 42,
   "id": "dbd8fe9a-b74a-4c02-bec5-dab0c15b25a5",
   "metadata": {},
   "outputs": [
    {
     "data": {
      "text/plain": [
       "(28, 28, 1)"
      ]
     },
     "execution_count": 42,
     "metadata": {},
     "output_type": "execute_result"
    }
   ],
   "source": [
    "X_train[12,0:].shape"
   ]
  },
  {
   "cell_type": "code",
   "execution_count": 31,
   "id": "17637c1c-2f19-4f41-8626-44c0b1aab30d",
   "metadata": {},
   "outputs": [],
   "source": [
    "y_train = y_train.reshape(y_train.shape[0],1)\n",
    "y_test = y_test.reshape(y_test.shape[0],1)"
   ]
  },
  {
   "cell_type": "code",
   "execution_count": 536,
   "id": "131df556-e773-42aa-8057-038cc6fe25c7",
   "metadata": {},
   "outputs": [],
   "source": [
    "# X_train=X_train/255\n",
    "# X_test=X_test/255"
   ]
  },
  {
   "cell_type": "code",
   "execution_count": 35,
   "id": "5acdc79d-7891-4b4f-9e76-e5ec255cd152",
   "metadata": {},
   "outputs": [],
   "source": [
    "from tensorflow.keras.utils import to_categorical\n"
   ]
  },
  {
   "cell_type": "code",
   "execution_count": 36,
   "id": "812e187c-012d-4770-b761-eec09f1f0f5b",
   "metadata": {},
   "outputs": [],
   "source": [
    "y_train = to_categorical(y_train,num_classes=62, dtype='float32')\n",
    "y_test = to_categorical(y_test,num_classes=62, dtype='float32')"
   ]
  },
  {
   "cell_type": "code",
   "execution_count": 37,
   "id": "8851ced4-585f-4b1b-9150-ab0a6ff8a2b0",
   "metadata": {},
   "outputs": [
    {
     "data": {
      "text/plain": [
       "((558345, 28, 28), (558345, 62))"
      ]
     },
     "execution_count": 37,
     "metadata": {},
     "output_type": "execute_result"
    }
   ],
   "source": [
    "X_train.shape,y_train.shape"
   ]
  },
  {
   "cell_type": "code",
   "execution_count": 38,
   "id": "3bf83694-7ba8-4ef3-82f2-c9cf5323e295",
   "metadata": {},
   "outputs": [
    {
     "data": {
      "text/plain": [
       "((139587, 28, 28), (139587, 62))"
      ]
     },
     "execution_count": 38,
     "metadata": {},
     "output_type": "execute_result"
    }
   ],
   "source": [
    "X_test.shape,y_test.shape"
   ]
  },
  {
   "cell_type": "code",
   "execution_count": 129,
   "id": "ce4f5852-517c-413b-b1d4-c35db97b6350",
   "metadata": {},
   "outputs": [],
   "source": [
    "import tensorflow as tf\n",
    "from keras.models import Sequential\n",
    "from keras.layers import Dense\n",
    "from keras.layers import Dropout\n",
    "from keras.utils import np_utils\n",
    "import keras\n",
    "from tensorflow.keras import optimizers\n",
    "from keras.layers import Convolution2D, MaxPooling2D, Flatten, Dense\n",
    "from tensorflow.keras.layers import BatchNormalization\n",
    "from keras.layers import Activation"
   ]
  },
  {
   "cell_type": "code",
   "execution_count": 43,
   "id": "bbc0f11d-29ba-40ef-9818-bdcd6b47e2c9",
   "metadata": {},
   "outputs": [],
   "source": [
    "model = Sequential()\n",
    "model.add(Convolution2D(32,(3,3),activation='relu',input_shape=(28,28,1)))\n",
    "model.add(MaxPooling2D(2,2))\n",
    "model.add(Convolution2D(64,(3,3),activation='relu'))\n",
    "model.add(MaxPooling2D(2,2))\n",
    "model.add(Flatten())\n",
    "model.add(Dense(512,activation='relu'))\n",
    "model.add(Dense(62,activation='sigmoid'))\n",
    "model.compile(loss='categorical_crossentropy',optimizer=tf.keras.optimizers.RMSprop(learning_rate=0.0001),metrics=['acc'])"
   ]
  },
  {
   "cell_type": "code",
   "execution_count": 11,
   "id": "fd5e7dd5-712e-43d4-a1dd-6486e15d2836",
   "metadata": {},
   "outputs": [],
   "source": [
    "model = Sequential()\n",
    "model.add(Convolution2D(30, (5, 5), input_shape=(28, 28, 1), activation='relu'))\n",
    "model.add(MaxPooling2D(2, 2))\n",
    "model.add(Convolution2D(15, (3, 3), activation='relu'))\n",
    "model.add(MaxPooling2D(2, 2))\n",
    "model.add(Dropout(0.2))\n",
    "model.add(Flatten())\n",
    "model.add(Dense(128, activation='relu'))\n",
    "model.add(Dense(50, activation='relu'))\n",
    "model.add(Dense(62, activation='sigmoid'))\n",
    "model.compile(loss='categorical_crossentropy', optimizer=tf.keras.optimizers.RMSprop(learning_rate=0.0001), metrics=['accuracy'])"
   ]
  },
  {
   "cell_type": "code",
   "execution_count": 138,
   "id": "292a439f-4f32-41f2-960a-94f08164fba3",
   "metadata": {},
   "outputs": [],
   "source": [
    "model = Sequential()\n",
    "\n",
    "# conv 1\n",
    "model.add(Convolution2D(filters=32, kernel_size=(3,3), padding='same', input_shape=(28, 28, 1)))\n",
    "model.add(BatchNormalization())\n",
    "model.add(Activation('relu'))\n",
    "model.add(MaxPooling2D(pool_size=(2,2), strides=(1,1)))\n",
    "\n",
    "# conv 2\n",
    "model.add(Convolution2D(filters=64, kernel_size=(3,3), padding='same'))\n",
    "model.add(BatchNormalization())\n",
    "model.add(Activation('relu'))\n",
    "model.add(MaxPooling2D(pool_size=(2,2), strides=(1,1)))\n",
    "\n",
    "# conv 3\n",
    "# emotion_model.add(Conv2D(filters=64, kernel_size=(3,3), padding='same'))\n",
    "# emotion_model.add(BatchNormalization())\n",
    "# emotion_model.add(Activation('relu'))\n",
    "# emotion_model.add(MaxPooling2D(pool_size=(2,2), strides=(1,1)))\n",
    "\n",
    "# # conv 4\n",
    "# emotion_model.add(Conv2D(filters=128, kernel_size=(3,3), padding='same'))\n",
    "# emotion_model.add(BatchNormalization())\n",
    "# emotion_model.add(Activation('relu'))\n",
    "# emotion_model.add(MaxPooling2D(pool_size=(2,2), strides=(1,1)))\n",
    "\n",
    "# flatten\n",
    "model.add(Flatten())\n",
    "\n",
    "# fully connected 1\n",
    "model.add(Dense(512))\n",
    "model.add(BatchNormalization())\n",
    "model.add(Activation('relu'))\n",
    "model.add(Dropout(0.3))\n",
    "\n",
    "# fully connected 2\n",
    "model.add(Dense(256))\n",
    "model.add(BatchNormalization())\n",
    "model.add(Activation('relu'))\n",
    "model.add(Dropout(0.25))\n",
    "\n",
    "# fully connected 3\n",
    "# emotion_model.add(Dense(128))\n",
    "# emotion_model.add(BatchNormalization())\n",
    "# emotion_model.add(Activation('relu'))\n",
    "# emotion_model.add(Dropout(0.2))\n",
    "\n",
    "# output block\n",
    "model.add(Dense(62, activation='softmax'))"
   ]
  },
  {
   "cell_type": "code",
   "execution_count": 139,
   "id": "1d2a40f3-49aa-4467-a0ec-25bf511ca6d3",
   "metadata": {},
   "outputs": [],
   "source": [
    "optimizer = tf.keras.optimizers.Adam(learning_rate=0.0001)\n",
    "model.compile(optimizer=optimizer, loss='categorical_crossentropy', metrics=['accuracy'])"
   ]
  },
  {
   "cell_type": "code",
   "execution_count": 140,
   "id": "4983a484-14bb-44d3-8341-15165217ec09",
   "metadata": {},
   "outputs": [],
   "source": [
    "import visualkeras as vk "
   ]
  },
  {
   "cell_type": "code",
   "execution_count": 141,
   "id": "d96dab7f-517c-4aac-95ca-931a645e832f",
   "metadata": {},
   "outputs": [
    {
     "data": {
      "image/png": "[encoded data removed]",
      "text/plain": [
       "<PIL.Image.Image image mode=RGBA size=1100x150 at 0x25AAA711FD0>"
      ]
     },
     "execution_count": 141,
     "metadata": {},
     "output_type": "execute_result"
    }
   ],
   "source": [
    "vk.layered_view(model)"
   ]
  },
  {
   "cell_type": "code",
   "execution_count": 142,
   "id": "3c6f15fd-1a92-4b90-859b-b5204c7e14ae",
   "metadata": {},
   "outputs": [
    {
     "name": "stdout",
     "output_type": "stream",
     "text": [
      "Epoch 1/3\n",
      "17449/17449 [==============================] - 2154s 123ms/step - loss: 0.5959 - accuracy: 0.8118 - val_loss: 0.3914 - val_accuracy: 0.8590\n",
      "Epoch 2/3\n",
      "17449/17449 [==============================] - 2113s 121ms/step - loss: 0.4291 - accuracy: 0.8484 - val_loss: 0.3665 - val_accuracy: 0.8652\n",
      "Epoch 3/3\n",
      " 1928/17449 [==>...........................] - ETA: 29:40 - loss: 0.3963 - accuracy: 0.8577"
     ]
    },
    {
     "ename": "KeyboardInterrupt",
     "evalue": "",
     "output_type": "error",
     "traceback": [
      "\u001b[1;31m---------------------------------------------------------------------------\u001b[0m",
      "\u001b[1;31mKeyboardInterrupt\u001b[0m                         Traceback (most recent call last)",
      "\u001b[1;32m~\\AppData\\Local\\Temp/ipykernel_7152/3104998639.py\u001b[0m in \u001b[0;36m<module>\u001b[1;34m\u001b[0m\n\u001b[1;32m----> 1\u001b[1;33m \u001b[0mtraining\u001b[0m\u001b[1;33m=\u001b[0m\u001b[0mmodel\u001b[0m\u001b[1;33m.\u001b[0m\u001b[0mfit\u001b[0m\u001b[1;33m(\u001b[0m\u001b[0mX_train\u001b[0m\u001b[1;33m,\u001b[0m\u001b[0my_train\u001b[0m\u001b[1;33m,\u001b[0m\u001b[0mepochs\u001b[0m\u001b[1;33m=\u001b[0m\u001b[1;36m3\u001b[0m\u001b[1;33m,\u001b[0m\u001b[0mvalidation_data\u001b[0m\u001b[1;33m=\u001b[0m\u001b[1;33m(\u001b[0m\u001b[0mX_test\u001b[0m\u001b[1;33m,\u001b[0m\u001b[0my_test\u001b[0m\u001b[1;33m)\u001b[0m\u001b[1;33m,\u001b[0m\u001b[0mverbose\u001b[0m\u001b[1;33m=\u001b[0m\u001b[1;36m1\u001b[0m\u001b[1;33m)\u001b[0m\u001b[1;33m\u001b[0m\u001b[1;33m\u001b[0m\u001b[0m\n\u001b[0m",
      "\u001b[1;32m~\\anaconda3\\lib\\site-packages\\keras\\utils\\traceback_utils.py\u001b[0m in \u001b[0;36merror_handler\u001b[1;34m(*args, **kwargs)\u001b[0m\n\u001b[0;32m     62\u001b[0m     \u001b[0mfiltered_tb\u001b[0m \u001b[1;33m=\u001b[0m \u001b[1;32mNone\u001b[0m\u001b[1;33m\u001b[0m\u001b[1;33m\u001b[0m\u001b[0m\n\u001b[0;32m     63\u001b[0m     \u001b[1;32mtry\u001b[0m\u001b[1;33m:\u001b[0m\u001b[1;33m\u001b[0m\u001b[1;33m\u001b[0m\u001b[0m\n\u001b[1;32m---> 64\u001b[1;33m       \u001b[1;32mreturn\u001b[0m \u001b[0mfn\u001b[0m\u001b[1;33m(\u001b[0m\u001b[1;33m*\u001b[0m\u001b[0margs\u001b[0m\u001b[1;33m,\u001b[0m \u001b[1;33m**\u001b[0m\u001b[0mkwargs\u001b[0m\u001b[1;33m)\u001b[0m\u001b[1;33m\u001b[0m\u001b[1;33m\u001b[0m\u001b[0m\n\u001b[0m\u001b[0;32m     65\u001b[0m     \u001b[1;32mexcept\u001b[0m \u001b[0mException\u001b[0m \u001b[1;32mas\u001b[0m \u001b[0me\u001b[0m\u001b[1;33m:\u001b[0m  \u001b[1;31m# pylint: disable=broad-except\u001b[0m\u001b[1;33m\u001b[0m\u001b[1;33m\u001b[0m\u001b[0m\n\u001b[0;32m     66\u001b[0m       \u001b[0mfiltered_tb\u001b[0m \u001b[1;33m=\u001b[0m \u001b[0m_process_traceback_frames\u001b[0m\u001b[1;33m(\u001b[0m\u001b[0me\u001b[0m\u001b[1;33m.\u001b[0m\u001b[0m__traceback__\u001b[0m\u001b[1;33m)\u001b[0m\u001b[1;33m\u001b[0m\u001b[1;33m\u001b[0m\u001b[0m\n",
      "\u001b[1;32m~\\anaconda3\\lib\\site-packages\\keras\\engine\\training.py\u001b[0m in \u001b[0;36mfit\u001b[1;34m(self, x, y, batch_size, epochs, verbose, callbacks, validation_split, validation_data, shuffle, class_weight, sample_weight, initial_epoch, steps_per_epoch, validation_steps, validation_batch_size, validation_freq, max_queue_size, workers, use_multiprocessing)\u001b[0m\n\u001b[0;32m   1382\u001b[0m                 _r=1):\n\u001b[0;32m   1383\u001b[0m               \u001b[0mcallbacks\u001b[0m\u001b[1;33m.\u001b[0m\u001b[0mon_train_batch_begin\u001b[0m\u001b[1;33m(\u001b[0m\u001b[0mstep\u001b[0m\u001b[1;33m)\u001b[0m\u001b[1;33m\u001b[0m\u001b[1;33m\u001b[0m\u001b[0m\n\u001b[1;32m-> 1384\u001b[1;33m               \u001b[0mtmp_logs\u001b[0m \u001b[1;33m=\u001b[0m \u001b[0mself\u001b[0m\u001b[1;33m.\u001b[0m\u001b[0mtrain_function\u001b[0m\u001b[1;33m(\u001b[0m\u001b[0miterator\u001b[0m\u001b[1;33m)\u001b[0m\u001b[1;33m\u001b[0m\u001b[1;33m\u001b[0m\u001b[0m\n\u001b[0m\u001b[0;32m   1385\u001b[0m               \u001b[1;32mif\u001b[0m \u001b[0mdata_handler\u001b[0m\u001b[1;33m.\u001b[0m\u001b[0mshould_sync\u001b[0m\u001b[1;33m:\u001b[0m\u001b[1;33m\u001b[0m\u001b[1;33m\u001b[0m\u001b[0m\n\u001b[0;32m   1386\u001b[0m                 \u001b[0mcontext\u001b[0m\u001b[1;33m.\u001b[0m\u001b[0masync_wait\u001b[0m\u001b[1;33m(\u001b[0m\u001b[1;33m)\u001b[0m\u001b[1;33m\u001b[0m\u001b[1;33m\u001b[0m\u001b[0m\n",
      "\u001b[1;32m~\\anaconda3\\lib\\site-packages\\tensorflow\\python\\util\\traceback_utils.py\u001b[0m in \u001b[0;36merror_handler\u001b[1;34m(*args, **kwargs)\u001b[0m\n\u001b[0;32m    148\u001b[0m     \u001b[0mfiltered_tb\u001b[0m \u001b[1;33m=\u001b[0m \u001b[1;32mNone\u001b[0m\u001b[1;33m\u001b[0m\u001b[1;33m\u001b[0m\u001b[0m\n\u001b[0;32m    149\u001b[0m     \u001b[1;32mtry\u001b[0m\u001b[1;33m:\u001b[0m\u001b[1;33m\u001b[0m\u001b[1;33m\u001b[0m\u001b[0m\n\u001b[1;32m--> 150\u001b[1;33m       \u001b[1;32mreturn\u001b[0m \u001b[0mfn\u001b[0m\u001b[1;33m(\u001b[0m\u001b[1;33m*\u001b[0m\u001b[0margs\u001b[0m\u001b[1;33m,\u001b[0m \u001b[1;33m**\u001b[0m\u001b[0mkwargs\u001b[0m\u001b[1;33m)\u001b[0m\u001b[1;33m\u001b[0m\u001b[1;33m\u001b[0m\u001b[0m\n\u001b[0m\u001b[0;32m    151\u001b[0m     \u001b[1;32mexcept\u001b[0m \u001b[0mException\u001b[0m \u001b[1;32mas\u001b[0m \u001b[0me\u001b[0m\u001b[1;33m:\u001b[0m\u001b[1;33m\u001b[0m\u001b[1;33m\u001b[0m\u001b[0m\n\u001b[0;32m    152\u001b[0m       \u001b[0mfiltered_tb\u001b[0m \u001b[1;33m=\u001b[0m \u001b[0m_process_traceback_frames\u001b[0m\u001b[1;33m(\u001b[0m\u001b[0me\u001b[0m\u001b[1;33m.\u001b[0m\u001b[0m__traceback__\u001b[0m\u001b[1;33m)\u001b[0m\u001b[1;33m\u001b[0m\u001b[1;33m\u001b[0m\u001b[0m\n",
      "\u001b[1;32m~\\anaconda3\\lib\\site-packages\\tensorflow\\python\\eager\\def_function.py\u001b[0m in \u001b[0;36m__call__\u001b[1;34m(self, *args, **kwds)\u001b[0m\n\u001b[0;32m    913\u001b[0m \u001b[1;33m\u001b[0m\u001b[0m\n\u001b[0;32m    914\u001b[0m       \u001b[1;32mwith\u001b[0m \u001b[0mOptionalXlaContext\u001b[0m\u001b[1;33m(\u001b[0m\u001b[0mself\u001b[0m\u001b[1;33m.\u001b[0m\u001b[0m_jit_compile\u001b[0m\u001b[1;33m)\u001b[0m\u001b[1;33m:\u001b[0m\u001b[1;33m\u001b[0m\u001b[1;33m\u001b[0m\u001b[0m\n\u001b[1;32m--> 915\u001b[1;33m         \u001b[0mresult\u001b[0m \u001b[1;33m=\u001b[0m \u001b[0mself\u001b[0m\u001b[1;33m.\u001b[0m\u001b[0m_call\u001b[0m\u001b[1;33m(\u001b[0m\u001b[1;33m*\u001b[0m\u001b[0margs\u001b[0m\u001b[1;33m,\u001b[0m \u001b[1;33m**\u001b[0m\u001b[0mkwds\u001b[0m\u001b[1;33m)\u001b[0m\u001b[1;33m\u001b[0m\u001b[1;33m\u001b[0m\u001b[0m\n\u001b[0m\u001b[0;32m    916\u001b[0m \u001b[1;33m\u001b[0m\u001b[0m\n\u001b[0;32m    917\u001b[0m       \u001b[0mnew_tracing_count\u001b[0m \u001b[1;33m=\u001b[0m \u001b[0mself\u001b[0m\u001b[1;33m.\u001b[0m\u001b[0mexperimental_get_tracing_count\u001b[0m\u001b[1;33m(\u001b[0m\u001b[1;33m)\u001b[0m\u001b[1;33m\u001b[0m\u001b[1;33m\u001b[0m\u001b[0m\n",
      "\u001b[1;32m~\\anaconda3\\lib\\site-packages\\tensorflow\\python\\eager\\def_function.py\u001b[0m in \u001b[0;36m_call\u001b[1;34m(self, *args, **kwds)\u001b[0m\n\u001b[0;32m    945\u001b[0m       \u001b[1;31m# In this case we have created variables on the first call, so we run the\u001b[0m\u001b[1;33m\u001b[0m\u001b[1;33m\u001b[0m\u001b[0m\n\u001b[0;32m    946\u001b[0m       \u001b[1;31m# defunned version which is guaranteed to never create variables.\u001b[0m\u001b[1;33m\u001b[0m\u001b[1;33m\u001b[0m\u001b[0m\n\u001b[1;32m--> 947\u001b[1;33m       \u001b[1;32mreturn\u001b[0m \u001b[0mself\u001b[0m\u001b[1;33m.\u001b[0m\u001b[0m_stateless_fn\u001b[0m\u001b[1;33m(\u001b[0m\u001b[1;33m*\u001b[0m\u001b[0margs\u001b[0m\u001b[1;33m,\u001b[0m \u001b[1;33m**\u001b[0m\u001b[0mkwds\u001b[0m\u001b[1;33m)\u001b[0m  \u001b[1;31m# pylint: disable=not-callable\u001b[0m\u001b[1;33m\u001b[0m\u001b[1;33m\u001b[0m\u001b[0m\n\u001b[0m\u001b[0;32m    948\u001b[0m     \u001b[1;32melif\u001b[0m \u001b[0mself\u001b[0m\u001b[1;33m.\u001b[0m\u001b[0m_stateful_fn\u001b[0m \u001b[1;32mis\u001b[0m \u001b[1;32mnot\u001b[0m \u001b[1;32mNone\u001b[0m\u001b[1;33m:\u001b[0m\u001b[1;33m\u001b[0m\u001b[1;33m\u001b[0m\u001b[0m\n\u001b[0;32m    949\u001b[0m       \u001b[1;31m# Release the lock early so that multiple threads can perform the call\u001b[0m\u001b[1;33m\u001b[0m\u001b[1;33m\u001b[0m\u001b[0m\n",
      "\u001b[1;32m~\\anaconda3\\lib\\site-packages\\tensorflow\\python\\eager\\function.py\u001b[0m in \u001b[0;36m__call__\u001b[1;34m(self, *args, **kwargs)\u001b[0m\n\u001b[0;32m   2954\u001b[0m       (graph_function,\n\u001b[0;32m   2955\u001b[0m        filtered_flat_args) = self._maybe_define_function(args, kwargs)\n\u001b[1;32m-> 2956\u001b[1;33m     return graph_function._call_flat(\n\u001b[0m\u001b[0;32m   2957\u001b[0m         filtered_flat_args, captured_inputs=graph_function.captured_inputs)  # pylint: disable=protected-access\n\u001b[0;32m   2958\u001b[0m \u001b[1;33m\u001b[0m\u001b[0m\n",
      "\u001b[1;32m~\\anaconda3\\lib\\site-packages\\tensorflow\\python\\eager\\function.py\u001b[0m in \u001b[0;36m_call_flat\u001b[1;34m(self, args, captured_inputs, cancellation_manager)\u001b[0m\n\u001b[0;32m   1851\u001b[0m         and executing_eagerly):\n\u001b[0;32m   1852\u001b[0m       \u001b[1;31m# No tape is watching; skip to running the function.\u001b[0m\u001b[1;33m\u001b[0m\u001b[1;33m\u001b[0m\u001b[0m\n\u001b[1;32m-> 1853\u001b[1;33m       return self._build_call_outputs(self._inference_function.call(\n\u001b[0m\u001b[0;32m   1854\u001b[0m           ctx, args, cancellation_manager=cancellation_manager))\n\u001b[0;32m   1855\u001b[0m     forward_backward = self._select_forward_and_backward_functions(\n",
      "\u001b[1;32m~\\anaconda3\\lib\\site-packages\\tensorflow\\python\\eager\\function.py\u001b[0m in \u001b[0;36mcall\u001b[1;34m(self, ctx, args, cancellation_manager)\u001b[0m\n\u001b[0;32m    497\u001b[0m       \u001b[1;32mwith\u001b[0m \u001b[0m_InterpolateFunctionError\u001b[0m\u001b[1;33m(\u001b[0m\u001b[0mself\u001b[0m\u001b[1;33m)\u001b[0m\u001b[1;33m:\u001b[0m\u001b[1;33m\u001b[0m\u001b[1;33m\u001b[0m\u001b[0m\n\u001b[0;32m    498\u001b[0m         \u001b[1;32mif\u001b[0m \u001b[0mcancellation_manager\u001b[0m \u001b[1;32mis\u001b[0m \u001b[1;32mNone\u001b[0m\u001b[1;33m:\u001b[0m\u001b[1;33m\u001b[0m\u001b[1;33m\u001b[0m\u001b[0m\n\u001b[1;32m--> 499\u001b[1;33m           outputs = execute.execute(\n\u001b[0m\u001b[0;32m    500\u001b[0m               \u001b[0mstr\u001b[0m\u001b[1;33m(\u001b[0m\u001b[0mself\u001b[0m\u001b[1;33m.\u001b[0m\u001b[0msignature\u001b[0m\u001b[1;33m.\u001b[0m\u001b[0mname\u001b[0m\u001b[1;33m)\u001b[0m\u001b[1;33m,\u001b[0m\u001b[1;33m\u001b[0m\u001b[1;33m\u001b[0m\u001b[0m\n\u001b[0;32m    501\u001b[0m               \u001b[0mnum_outputs\u001b[0m\u001b[1;33m=\u001b[0m\u001b[0mself\u001b[0m\u001b[1;33m.\u001b[0m\u001b[0m_num_outputs\u001b[0m\u001b[1;33m,\u001b[0m\u001b[1;33m\u001b[0m\u001b[1;33m\u001b[0m\u001b[0m\n",
      "\u001b[1;32m~\\anaconda3\\lib\\site-packages\\tensorflow\\python\\eager\\execute.py\u001b[0m in \u001b[0;36mquick_execute\u001b[1;34m(op_name, num_outputs, inputs, attrs, ctx, name)\u001b[0m\n\u001b[0;32m     52\u001b[0m   \u001b[1;32mtry\u001b[0m\u001b[1;33m:\u001b[0m\u001b[1;33m\u001b[0m\u001b[1;33m\u001b[0m\u001b[0m\n\u001b[0;32m     53\u001b[0m     \u001b[0mctx\u001b[0m\u001b[1;33m.\u001b[0m\u001b[0mensure_initialized\u001b[0m\u001b[1;33m(\u001b[0m\u001b[1;33m)\u001b[0m\u001b[1;33m\u001b[0m\u001b[1;33m\u001b[0m\u001b[0m\n\u001b[1;32m---> 54\u001b[1;33m     tensors = pywrap_tfe.TFE_Py_Execute(ctx._handle, device_name, op_name,\n\u001b[0m\u001b[0;32m     55\u001b[0m                                         inputs, attrs, num_outputs)\n\u001b[0;32m     56\u001b[0m   \u001b[1;32mexcept\u001b[0m \u001b[0mcore\u001b[0m\u001b[1;33m.\u001b[0m\u001b[0m_NotOkStatusException\u001b[0m \u001b[1;32mas\u001b[0m \u001b[0me\u001b[0m\u001b[1;33m:\u001b[0m\u001b[1;33m\u001b[0m\u001b[1;33m\u001b[0m\u001b[0m\n",
      "\u001b[1;31mKeyboardInterrupt\u001b[0m: "
     ]
    }
   ],
   "source": [
    "training=model.fit(X_train,y_train,epochs=3,validation_data=(X_test,y_test),verbose=1)"
   ]
  },
  {
   "cell_type": "code",
   "execution_count": 15,
   "id": "7f7b983a-4020-441d-bfe5-016efddce034",
   "metadata": {},
   "outputs": [],
   "source": [
    "from livelossplot import PlotLossesKeras"
   ]
  },
  {
   "cell_type": "code",
   "execution_count": 16,
   "id": "46b01af2-66dc-47b1-9ce6-e8116c2f8665",
   "metadata": {},
   "outputs": [
    {
     "ename": "KeyboardInterrupt",
     "evalue": "",
     "output_type": "error",
     "traceback": [
      "\u001b[1;31m---------------------------------------------------------------------------\u001b[0m",
      "\u001b[1;31mKeyboardInterrupt\u001b[0m                         Traceback (most recent call last)",
      "\u001b[1;32m~\\AppData\\Local\\Temp/ipykernel_11552/1250581872.py\u001b[0m in \u001b[0;36m<module>\u001b[1;34m\u001b[0m\n\u001b[1;32m----> 1\u001b[1;33m model.fit(X_train, y_train, epochs=1,\n\u001b[0m\u001b[0;32m      2\u001b[0m           \u001b[0mvalidation_data\u001b[0m\u001b[1;33m=\u001b[0m\u001b[1;33m(\u001b[0m\u001b[0mX_test\u001b[0m\u001b[1;33m,\u001b[0m \u001b[0my_test\u001b[0m\u001b[1;33m)\u001b[0m\u001b[1;33m,\u001b[0m\u001b[1;33m\u001b[0m\u001b[1;33m\u001b[0m\u001b[0m\n\u001b[0;32m      3\u001b[0m           \u001b[0mcallbacks\u001b[0m\u001b[1;33m=\u001b[0m\u001b[1;33m[\u001b[0m\u001b[0mPlotLossesKeras\u001b[0m\u001b[1;33m(\u001b[0m\u001b[1;33m)\u001b[0m\u001b[1;33m]\u001b[0m\u001b[1;33m,\u001b[0m\u001b[1;33m\u001b[0m\u001b[1;33m\u001b[0m\u001b[0m\n\u001b[0;32m      4\u001b[0m           verbose=0)\n",
      "\u001b[1;32m~\\anaconda3\\lib\\site-packages\\keras\\utils\\traceback_utils.py\u001b[0m in \u001b[0;36merror_handler\u001b[1;34m(*args, **kwargs)\u001b[0m\n\u001b[0;32m     62\u001b[0m     \u001b[0mfiltered_tb\u001b[0m \u001b[1;33m=\u001b[0m \u001b[1;32mNone\u001b[0m\u001b[1;33m\u001b[0m\u001b[1;33m\u001b[0m\u001b[0m\n\u001b[0;32m     63\u001b[0m     \u001b[1;32mtry\u001b[0m\u001b[1;33m:\u001b[0m\u001b[1;33m\u001b[0m\u001b[1;33m\u001b[0m\u001b[0m\n\u001b[1;32m---> 64\u001b[1;33m       \u001b[1;32mreturn\u001b[0m \u001b[0mfn\u001b[0m\u001b[1;33m(\u001b[0m\u001b[1;33m*\u001b[0m\u001b[0margs\u001b[0m\u001b[1;33m,\u001b[0m \u001b[1;33m**\u001b[0m\u001b[0mkwargs\u001b[0m\u001b[1;33m)\u001b[0m\u001b[1;33m\u001b[0m\u001b[1;33m\u001b[0m\u001b[0m\n\u001b[0m\u001b[0;32m     65\u001b[0m     \u001b[1;32mexcept\u001b[0m \u001b[0mException\u001b[0m \u001b[1;32mas\u001b[0m \u001b[0me\u001b[0m\u001b[1;33m:\u001b[0m  \u001b[1;31m# pylint: disable=broad-except\u001b[0m\u001b[1;33m\u001b[0m\u001b[1;33m\u001b[0m\u001b[0m\n\u001b[0;32m     66\u001b[0m       \u001b[0mfiltered_tb\u001b[0m \u001b[1;33m=\u001b[0m \u001b[0m_process_traceback_frames\u001b[0m\u001b[1;33m(\u001b[0m\u001b[0me\u001b[0m\u001b[1;33m.\u001b[0m\u001b[0m__traceback__\u001b[0m\u001b[1;33m)\u001b[0m\u001b[1;33m\u001b[0m\u001b[1;33m\u001b[0m\u001b[0m\n",
      "\u001b[1;32m~\\anaconda3\\lib\\site-packages\\keras\\engine\\training.py\u001b[0m in \u001b[0;36mfit\u001b[1;34m(self, x, y, batch_size, epochs, verbose, callbacks, validation_split, validation_data, shuffle, class_weight, sample_weight, initial_epoch, steps_per_epoch, validation_steps, validation_batch_size, validation_freq, max_queue_size, workers, use_multiprocessing)\u001b[0m\n\u001b[0;32m   1382\u001b[0m                 _r=1):\n\u001b[0;32m   1383\u001b[0m               \u001b[0mcallbacks\u001b[0m\u001b[1;33m.\u001b[0m\u001b[0mon_train_batch_begin\u001b[0m\u001b[1;33m(\u001b[0m\u001b[0mstep\u001b[0m\u001b[1;33m)\u001b[0m\u001b[1;33m\u001b[0m\u001b[1;33m\u001b[0m\u001b[0m\n\u001b[1;32m-> 1384\u001b[1;33m               \u001b[0mtmp_logs\u001b[0m \u001b[1;33m=\u001b[0m \u001b[0mself\u001b[0m\u001b[1;33m.\u001b[0m\u001b[0mtrain_function\u001b[0m\u001b[1;33m(\u001b[0m\u001b[0miterator\u001b[0m\u001b[1;33m)\u001b[0m\u001b[1;33m\u001b[0m\u001b[1;33m\u001b[0m\u001b[0m\n\u001b[0m\u001b[0;32m   1385\u001b[0m               \u001b[1;32mif\u001b[0m \u001b[0mdata_handler\u001b[0m\u001b[1;33m.\u001b[0m\u001b[0mshould_sync\u001b[0m\u001b[1;33m:\u001b[0m\u001b[1;33m\u001b[0m\u001b[1;33m\u001b[0m\u001b[0m\n\u001b[0;32m   1386\u001b[0m                 \u001b[0mcontext\u001b[0m\u001b[1;33m.\u001b[0m\u001b[0masync_wait\u001b[0m\u001b[1;33m(\u001b[0m\u001b[1;33m)\u001b[0m\u001b[1;33m\u001b[0m\u001b[1;33m\u001b[0m\u001b[0m\n",
      "\u001b[1;32m~\\anaconda3\\lib\\site-packages\\tensorflow\\python\\util\\traceback_utils.py\u001b[0m in \u001b[0;36merror_handler\u001b[1;34m(*args, **kwargs)\u001b[0m\n\u001b[0;32m    148\u001b[0m     \u001b[0mfiltered_tb\u001b[0m \u001b[1;33m=\u001b[0m \u001b[1;32mNone\u001b[0m\u001b[1;33m\u001b[0m\u001b[1;33m\u001b[0m\u001b[0m\n\u001b[0;32m    149\u001b[0m     \u001b[1;32mtry\u001b[0m\u001b[1;33m:\u001b[0m\u001b[1;33m\u001b[0m\u001b[1;33m\u001b[0m\u001b[0m\n\u001b[1;32m--> 150\u001b[1;33m       \u001b[1;32mreturn\u001b[0m \u001b[0mfn\u001b[0m\u001b[1;33m(\u001b[0m\u001b[1;33m*\u001b[0m\u001b[0margs\u001b[0m\u001b[1;33m,\u001b[0m \u001b[1;33m**\u001b[0m\u001b[0mkwargs\u001b[0m\u001b[1;33m)\u001b[0m\u001b[1;33m\u001b[0m\u001b[1;33m\u001b[0m\u001b[0m\n\u001b[0m\u001b[0;32m    151\u001b[0m     \u001b[1;32mexcept\u001b[0m \u001b[0mException\u001b[0m \u001b[1;32mas\u001b[0m \u001b[0me\u001b[0m\u001b[1;33m:\u001b[0m\u001b[1;33m\u001b[0m\u001b[1;33m\u001b[0m\u001b[0m\n\u001b[0;32m    152\u001b[0m       \u001b[0mfiltered_tb\u001b[0m \u001b[1;33m=\u001b[0m \u001b[0m_process_traceback_frames\u001b[0m\u001b[1;33m(\u001b[0m\u001b[0me\u001b[0m\u001b[1;33m.\u001b[0m\u001b[0m__traceback__\u001b[0m\u001b[1;33m)\u001b[0m\u001b[1;33m\u001b[0m\u001b[1;33m\u001b[0m\u001b[0m\n",
      "\u001b[1;32m~\\anaconda3\\lib\\site-packages\\tensorflow\\python\\eager\\def_function.py\u001b[0m in \u001b[0;36m__call__\u001b[1;34m(self, *args, **kwds)\u001b[0m\n\u001b[0;32m    913\u001b[0m \u001b[1;33m\u001b[0m\u001b[0m\n\u001b[0;32m    914\u001b[0m       \u001b[1;32mwith\u001b[0m \u001b[0mOptionalXlaContext\u001b[0m\u001b[1;33m(\u001b[0m\u001b[0mself\u001b[0m\u001b[1;33m.\u001b[0m\u001b[0m_jit_compile\u001b[0m\u001b[1;33m)\u001b[0m\u001b[1;33m:\u001b[0m\u001b[1;33m\u001b[0m\u001b[1;33m\u001b[0m\u001b[0m\n\u001b[1;32m--> 915\u001b[1;33m         \u001b[0mresult\u001b[0m \u001b[1;33m=\u001b[0m \u001b[0mself\u001b[0m\u001b[1;33m.\u001b[0m\u001b[0m_call\u001b[0m\u001b[1;33m(\u001b[0m\u001b[1;33m*\u001b[0m\u001b[0margs\u001b[0m\u001b[1;33m,\u001b[0m \u001b[1;33m**\u001b[0m\u001b[0mkwds\u001b[0m\u001b[1;33m)\u001b[0m\u001b[1;33m\u001b[0m\u001b[1;33m\u001b[0m\u001b[0m\n\u001b[0m\u001b[0;32m    916\u001b[0m \u001b[1;33m\u001b[0m\u001b[0m\n\u001b[0;32m    917\u001b[0m       \u001b[0mnew_tracing_count\u001b[0m \u001b[1;33m=\u001b[0m \u001b[0mself\u001b[0m\u001b[1;33m.\u001b[0m\u001b[0mexperimental_get_tracing_count\u001b[0m\u001b[1;33m(\u001b[0m\u001b[1;33m)\u001b[0m\u001b[1;33m\u001b[0m\u001b[1;33m\u001b[0m\u001b[0m\n",
      "\u001b[1;32m~\\anaconda3\\lib\\site-packages\\tensorflow\\python\\eager\\def_function.py\u001b[0m in \u001b[0;36m_call\u001b[1;34m(self, *args, **kwds)\u001b[0m\n\u001b[0;32m    945\u001b[0m       \u001b[1;31m# In this case we have created variables on the first call, so we run the\u001b[0m\u001b[1;33m\u001b[0m\u001b[1;33m\u001b[0m\u001b[0m\n\u001b[0;32m    946\u001b[0m       \u001b[1;31m# defunned version which is guaranteed to never create variables.\u001b[0m\u001b[1;33m\u001b[0m\u001b[1;33m\u001b[0m\u001b[0m\n\u001b[1;32m--> 947\u001b[1;33m       \u001b[1;32mreturn\u001b[0m \u001b[0mself\u001b[0m\u001b[1;33m.\u001b[0m\u001b[0m_stateless_fn\u001b[0m\u001b[1;33m(\u001b[0m\u001b[1;33m*\u001b[0m\u001b[0margs\u001b[0m\u001b[1;33m,\u001b[0m \u001b[1;33m**\u001b[0m\u001b[0mkwds\u001b[0m\u001b[1;33m)\u001b[0m  \u001b[1;31m# pylint: disable=not-callable\u001b[0m\u001b[1;33m\u001b[0m\u001b[1;33m\u001b[0m\u001b[0m\n\u001b[0m\u001b[0;32m    948\u001b[0m     \u001b[1;32melif\u001b[0m \u001b[0mself\u001b[0m\u001b[1;33m.\u001b[0m\u001b[0m_stateful_fn\u001b[0m \u001b[1;32mis\u001b[0m \u001b[1;32mnot\u001b[0m \u001b[1;32mNone\u001b[0m\u001b[1;33m:\u001b[0m\u001b[1;33m\u001b[0m\u001b[1;33m\u001b[0m\u001b[0m\n\u001b[0;32m    949\u001b[0m       \u001b[1;31m# Release the lock early so that multiple threads can perform the call\u001b[0m\u001b[1;33m\u001b[0m\u001b[1;33m\u001b[0m\u001b[0m\n",
      "\u001b[1;32m~\\anaconda3\\lib\\site-packages\\tensorflow\\python\\eager\\function.py\u001b[0m in \u001b[0;36m__call__\u001b[1;34m(self, *args, **kwargs)\u001b[0m\n\u001b[0;32m   2954\u001b[0m       (graph_function,\n\u001b[0;32m   2955\u001b[0m        filtered_flat_args) = self._maybe_define_function(args, kwargs)\n\u001b[1;32m-> 2956\u001b[1;33m     return graph_function._call_flat(\n\u001b[0m\u001b[0;32m   2957\u001b[0m         filtered_flat_args, captured_inputs=graph_function.captured_inputs)  # pylint: disable=protected-access\n\u001b[0;32m   2958\u001b[0m \u001b[1;33m\u001b[0m\u001b[0m\n",
      "\u001b[1;32m~\\anaconda3\\lib\\site-packages\\tensorflow\\python\\eager\\function.py\u001b[0m in \u001b[0;36m_call_flat\u001b[1;34m(self, args, captured_inputs, cancellation_manager)\u001b[0m\n\u001b[0;32m   1851\u001b[0m         and executing_eagerly):\n\u001b[0;32m   1852\u001b[0m       \u001b[1;31m# No tape is watching; skip to running the function.\u001b[0m\u001b[1;33m\u001b[0m\u001b[1;33m\u001b[0m\u001b[0m\n\u001b[1;32m-> 1853\u001b[1;33m       return self._build_call_outputs(self._inference_function.call(\n\u001b[0m\u001b[0;32m   1854\u001b[0m           ctx, args, cancellation_manager=cancellation_manager))\n\u001b[0;32m   1855\u001b[0m     forward_backward = self._select_forward_and_backward_functions(\n",
      "\u001b[1;32m~\\anaconda3\\lib\\site-packages\\tensorflow\\python\\eager\\function.py\u001b[0m in \u001b[0;36mcall\u001b[1;34m(self, ctx, args, cancellation_manager)\u001b[0m\n\u001b[0;32m    497\u001b[0m       \u001b[1;32mwith\u001b[0m \u001b[0m_InterpolateFunctionError\u001b[0m\u001b[1;33m(\u001b[0m\u001b[0mself\u001b[0m\u001b[1;33m)\u001b[0m\u001b[1;33m:\u001b[0m\u001b[1;33m\u001b[0m\u001b[1;33m\u001b[0m\u001b[0m\n\u001b[0;32m    498\u001b[0m         \u001b[1;32mif\u001b[0m \u001b[0mcancellation_manager\u001b[0m \u001b[1;32mis\u001b[0m \u001b[1;32mNone\u001b[0m\u001b[1;33m:\u001b[0m\u001b[1;33m\u001b[0m\u001b[1;33m\u001b[0m\u001b[0m\n\u001b[1;32m--> 499\u001b[1;33m           outputs = execute.execute(\n\u001b[0m\u001b[0;32m    500\u001b[0m               \u001b[0mstr\u001b[0m\u001b[1;33m(\u001b[0m\u001b[0mself\u001b[0m\u001b[1;33m.\u001b[0m\u001b[0msignature\u001b[0m\u001b[1;33m.\u001b[0m\u001b[0mname\u001b[0m\u001b[1;33m)\u001b[0m\u001b[1;33m,\u001b[0m\u001b[1;33m\u001b[0m\u001b[1;33m\u001b[0m\u001b[0m\n\u001b[0;32m    501\u001b[0m               \u001b[0mnum_outputs\u001b[0m\u001b[1;33m=\u001b[0m\u001b[0mself\u001b[0m\u001b[1;33m.\u001b[0m\u001b[0m_num_outputs\u001b[0m\u001b[1;33m,\u001b[0m\u001b[1;33m\u001b[0m\u001b[1;33m\u001b[0m\u001b[0m\n",
      "\u001b[1;32m~\\anaconda3\\lib\\site-packages\\tensorflow\\python\\eager\\execute.py\u001b[0m in \u001b[0;36mquick_execute\u001b[1;34m(op_name, num_outputs, inputs, attrs, ctx, name)\u001b[0m\n\u001b[0;32m     52\u001b[0m   \u001b[1;32mtry\u001b[0m\u001b[1;33m:\u001b[0m\u001b[1;33m\u001b[0m\u001b[1;33m\u001b[0m\u001b[0m\n\u001b[0;32m     53\u001b[0m     \u001b[0mctx\u001b[0m\u001b[1;33m.\u001b[0m\u001b[0mensure_initialized\u001b[0m\u001b[1;33m(\u001b[0m\u001b[1;33m)\u001b[0m\u001b[1;33m\u001b[0m\u001b[1;33m\u001b[0m\u001b[0m\n\u001b[1;32m---> 54\u001b[1;33m     tensors = pywrap_tfe.TFE_Py_Execute(ctx._handle, device_name, op_name,\n\u001b[0m\u001b[0;32m     55\u001b[0m                                         inputs, attrs, num_outputs)\n\u001b[0;32m     56\u001b[0m   \u001b[1;32mexcept\u001b[0m \u001b[0mcore\u001b[0m\u001b[1;33m.\u001b[0m\u001b[0m_NotOkStatusException\u001b[0m \u001b[1;32mas\u001b[0m \u001b[0me\u001b[0m\u001b[1;33m:\u001b[0m\u001b[1;33m\u001b[0m\u001b[1;33m\u001b[0m\u001b[0m\n",
      "\u001b[1;31mKeyboardInterrupt\u001b[0m: "
     ]
    }
   ],
   "source": [
    "model.fit(X_train, y_train, epochs=1,\n",
    "          validation_data=(X_test, y_test),\n",
    "          callbacks=[PlotLossesKeras()],\n",
    "          verbose=0)"
   ]
  },
  {
   "cell_type": "code",
   "execution_count": 143,
   "id": "6e1d5dc3-6ec4-4a0b-8294-8bd736e54958",
   "metadata": {},
   "outputs": [],
   "source": [
    "predi = model.predict(X_test)"
   ]
  },
  {
   "cell_type": "code",
   "execution_count": null,
   "id": "336ffb36-8462-45cf-b962-0c69793384b0",
   "metadata": {},
   "outputs": [],
   "source": [
    "np.unique(predi)"
   ]
  },
  {
   "cell_type": "code",
   "execution_count": 26,
   "id": "5aba6f8a-b20b-4118-9c5e-d2f317381467",
   "metadata": {},
   "outputs": [],
   "source": [
    "import os"
   ]
  },
  {
   "cell_type": "code",
   "execution_count": 194,
   "id": "9bb301cf-741c-438f-92cb-6e6cbb3a39a9",
   "metadata": {},
   "outputs": [],
   "source": [
    "path=r'C:\\Users\\ACH\\Desktop\\P\\th.jpg'\n",
    "path2=\n",
    "im=cv2.imread(path)\n",
    "# cv2.imshow('image',im)"
   ]
  },
  {
   "cell_type": "code",
   "execution_count": null,
   "id": "0730bf6d-87ff-465f-830f-d45de3869da6",
   "metadata": {},
   "outputs": [],
   "source": [
    "plt.figure(figsize=(20,10))\n",
    "for i in range(20):\n",
    "    plt.subplot(2,10,i+1)\n",
    "    plt.imshow(imgpro(X_test[i]))\n",
    "    pred = predi[i].argmax()\n",
    "    final=translate(pred)\n",
    "    plt.title(\"predicted: {}\".format(final))\n",
    "    plt.axis('off')\n",
    "\n",
    "plt.show()\n",
    "   "
   ]
  },
  {
   "cell_type": "code",
   "execution_count": 200,
   "id": "e1793e8a-c139-486e-8115-3412d18f02a0",
   "metadata": {},
   "outputs": [
    {
     "data": {
      "text/plain": [
       "(28, 28, 3)"
      ]
     },
     "execution_count": 200,
     "metadata": {},
     "output_type": "execute_result"
    }
   ],
   "source": [
    "# plt.imshow(im)\n",
    "# pred = predi[].argmax()\n",
    "# plt.title(\"predicted: {}\".format(pred))\n",
    "# plt.axis('off')\n",
    "\n",
    "# plt.show()\n",
    "im.shape\n",
    "# im.ndim\n",
    "# im\n",
    "# hhh=im.reshape((28,28,1))"
   ]
  },
  {
   "cell_type": "code",
   "execution_count": 7,
   "id": "55ca289d-d9e3-4ed7-875c-76e20a845e80",
   "metadata": {},
   "outputs": [],
   "source": [
    "originalImage = cv2.imread('C:/Users/ACH/Desktop/P/img/16.png')\n",
    "originalImage2 = cv2.imread('C:/Users/ACH/Desktop/P/img/2.png')\n",
    "originalImage3 = cv2.imread('C:/Users/ACH/Desktop/P/img/3.png')\n",
    "originalImage4 = cv2.imread('C:/Users/ACH/Desktop/P/img/4.png')\n",
    "originalImage5 = cv2.imread('C:/Users/ACH/Desktop/P/img/5.png')\n",
    "originalImage6 = cv2.imread('C:/Users/ACH/Desktop/P/img/6.png')\n",
    "originalImage7 = cv2.imread('C:/Users/ACH/Desktop/P/img/7.png')\n",
    "originalImage8 = cv2.imread('C:/Users/ACH/Desktop/P/img/8.png')\n",
    "originalImage9 = cv2.imread('C:/Users/ACH/Desktop/P/img/9.png')\n",
    "originalImage10 = cv2.imread('C:/Users/ACH/Desktop/P/img/10.png')\n",
    "originalImage11 = cv2.imread('C:/Users/ACH/Desktop/P/img/11.png')\n",
    "originalImage12 = cv2.imread('C:/Users/ACH/Desktop/P/img/12.png')\n",
    "originalImage13 = cv2.imread('C:/Users/ACH/Desktop/P/img/13.png')\n",
    "originalImage14 = cv2.imread('C:/Users/ACH/Desktop/P/img/14.png')\n",
    "originalImage15 = cv2.imread('C:/Users/ACH/Desktop/P/img/15.png')"
   ]
  },
  {
   "cell_type": "code",
   "execution_count": 8,
   "id": "f9720233-1afe-44b0-b440-6a83054ae84a",
   "metadata": {},
   "outputs": [],
   "source": [
    "im = cv2.cvtColor(originalImage, cv2.COLOR_RGB2GRAY)\n",
    "im2 = cv2.cvtColor(originalImage2, cv2.COLOR_BGR2GRAY)\n",
    "im3 = cv2.cvtColor(originalImage3, cv2.COLOR_BGR2GRAY)\n",
    "im4 = cv2.cvtColor(originalImage4, cv2.COLOR_BGR2GRAY)\n",
    "im5 = cv2.cvtColor(originalImage5, cv2.COLOR_BGR2GRAY)\n",
    "im6 = cv2.cvtColor(originalImage6, cv2.COLOR_BGR2GRAY)\n",
    "im7 = cv2.cvtColor(originalImage7, cv2.COLOR_BGR2GRAY)\n",
    "im8 = cv2.cvtColor(originalImage8, cv2.COLOR_BGR2GRAY)\n",
    "im9 = cv2.cvtColor(originalImage9, cv2.COLOR_BGR2GRAY)\n",
    "im10 = cv2.cvtColor(originalImage10, cv2.COLOR_BGR2GRAY)\n",
    "im11 = cv2.cvtColor(originalImage11, cv2.COLOR_BGR2GRAY)\n",
    "im12 = cv2.cvtColor(originalImage12, cv2.COLOR_BGR2GRAY)\n",
    "im13 = cv2.cvtColor(originalImage13, cv2.COLOR_BGR2GRAY)\n",
    "im14 = cv2.cvtColor(originalImage14, cv2.COLOR_BGR2GRAY)\n",
    "im15 = cv2.cvtColor(originalImage15, cv2.COLOR_BGR2GRAY)"
   ]
  },
  {
   "cell_type": "code",
   "execution_count": 105,
   "id": "b08bacbe-9f63-461f-9de6-a3b14485ba8f",
   "metadata": {},
   "outputs": [],
   "source": [
    "im = cv2.rotate(im, cv2.ROTATE_90_COUNTERCLOCKWISE)"
   ]
  },
  {
   "cell_type": "code",
   "execution_count": 11,
   "id": "22054f83-0f2a-47e1-8c4c-98a7ccc511c5",
   "metadata": {},
   "outputs": [],
   "source": [
    "im5=im.reshape((1,28,28))"
   ]
  },
  {
   "cell_type": "code",
   "execution_count": 15,
   "id": "61cd84df-9e77-47cb-b596-f36f9cf91536",
   "metadata": {},
   "outputs": [
    {
     "data": {
      "image/png": "[encoded data removed]",
      "text/plain": [
       "<Figure size 432x288 with 1 Axes>"
      ]
     },
     "metadata": {
      "needs_background": "light"
     },
     "output_type": "display_data"
    }
   ],
   "source": [
    "plt.imshow(im6)\n",
    "plt.show()"
   ]
  },
  {
   "cell_type": "code",
   "execution_count": 28,
   "id": "e3c75567-dd68-463c-ab9d-8b67f17f0534",
   "metadata": {
    "tags": []
   },
   "outputs": [],
   "source": [
    "im=np.array(im)"
   ]
  },
  {
   "cell_type": "code",
   "execution_count": 147,
   "id": "6293f9d9-eaf2-4c74-b3a3-1a08dfac9258",
   "metadata": {},
   "outputs": [],
   "source": [
    "im = im.reshape(28,28,1)\n",
    "im2 = im2.reshape(28,28,1)\n",
    "im3 = im3.reshape(28,28,1)\n",
    "im4 = im4.reshape(28,28,1)\n",
    "im5 = im5.reshape(28,28,1)\n",
    "im6 = im6.reshape(28,28,1)\n",
    "im7 = im7.reshape(28,28,1)\n",
    "im8 = im8.reshape(28,28,1)\n",
    "im9 = im9.reshape(28,28,1)"
   ]
  },
  {
   "cell_type": "code",
   "execution_count": 148,
   "id": "5dcfdf0d-5c52-41df-93d0-fc3470e9822d",
   "metadata": {},
   "outputs": [],
   "source": [
    "imlist=[im,im2,im3,im4,im5,im6,im7,im8,im9,X_train[11,0:]]"
   ]
  },
  {
   "cell_type": "code",
   "execution_count": 149,
   "id": "3572085d-d687-4b1f-a46d-de93df398205",
   "metadata": {},
   "outputs": [],
   "source": [
    "imlist=np.array(imlist)"
   ]
  },
  {
   "cell_type": "code",
   "execution_count": 150,
   "id": "4b6b288f-d6ae-4d43-92b0-896f1c176630",
   "metadata": {},
   "outputs": [
    {
     "data": {
      "text/plain": [
       "(28, 28, 1)"
      ]
     },
     "execution_count": 150,
     "metadata": {},
     "output_type": "execute_result"
    }
   ],
   "source": [
    "im.shape\n"
   ]
  },
  {
   "cell_type": "code",
   "execution_count": 52,
   "id": "bb75a052-aeb9-4cf8-9167-4fe214c75719",
   "metadata": {},
   "outputs": [
    {
     "data": {
      "text/plain": [
       "(28, 28, 1)"
      ]
     },
     "execution_count": 52,
     "metadata": {},
     "output_type": "execute_result"
    }
   ],
   "source": [
    "X_train[11,0:].shape"
   ]
  },
  {
   "cell_type": "code",
   "execution_count": 55,
   "id": "a314afbb-e4b2-4e95-8c3b-d926df95b3f3",
   "metadata": {},
   "outputs": [
    {
     "data": {
      "text/plain": [
       "2"
      ]
     },
     "execution_count": 55,
     "metadata": {},
     "output_type": "execute_result"
    }
   ],
   "source": [
    "len(imlist)"
   ]
  },
  {
   "cell_type": "code",
   "execution_count": 32,
   "id": "c1173f50-7140-4b35-b370-981f539bf16a",
   "metadata": {
    "tags": []
   },
   "outputs": [
    {
     "data": {
      "text/plain": [
       "(28, 28)"
      ]
     },
     "execution_count": 32,
     "metadata": {},
     "output_type": "execute_result"
    }
   ],
   "source": [
    "im.shape"
   ]
  },
  {
   "cell_type": "code",
   "execution_count": 33,
   "id": "3174cd5d-743a-4e8d-91c2-05db0d5f2f1a",
   "metadata": {},
   "outputs": [],
   "source": [
    "im=imgpro(im)\n",
    "im2=imgpro(im2)"
   ]
  },
  {
   "cell_type": "code",
   "execution_count": 151,
   "id": "1a1738a1-e1ca-476d-97a1-7d1d7b27ec45",
   "metadata": {},
   "outputs": [],
   "source": [
    "predict = model.predict(imlist)"
   ]
  },
  {
   "cell_type": "code",
   "execution_count": 35,
   "id": "d251d538-2d22-4ff2-938a-d3b42d1a991a",
   "metadata": {
    "collapsed": true,
    "jupyter": {
     "outputs_hidden": true
    },
    "tags": []
   },
   "outputs": [
    {
     "data": {
      "text/plain": [
       "array([[6.04322493e-01, 5.80591857e-01, 2.70897746e-01, 2.30116844e-01,\n",
       "        2.20463991e-01, 1.80523276e-01, 4.68912810e-01, 1.96499050e-01,\n",
       "        2.27386415e-01, 2.06205696e-01, 6.63063884e-01, 2.88384140e-01,\n",
       "        8.76464248e-02, 6.08423352e-01, 1.22633070e-01, 1.76897854e-01,\n",
       "        5.04315495e-01, 5.17833710e-01, 2.43637532e-01, 1.57854438e-01,\n",
       "        2.41493404e-01, 5.76996267e-01, 4.10407126e-01, 7.00798988e-01,\n",
       "        4.44316208e-01, 7.68951774e-02, 7.54610777e-01, 1.47867620e-01,\n",
       "        2.33462363e-01, 1.75323904e-01, 6.40366614e-01, 6.62264347e-01,\n",
       "        6.12648487e-01, 2.73128927e-01, 1.42087191e-01, 5.15922010e-02,\n",
       "        5.99727392e-01, 6.24151468e-01, 2.06242472e-01, 7.60338366e-01,\n",
       "        7.09419847e-02, 1.06099248e-01, 1.37650013e-01, 7.88870454e-01,\n",
       "        2.13185370e-01, 2.26106077e-01, 3.78261656e-01, 5.26753545e-01,\n",
       "        2.24726588e-01, 7.49732614e-01, 1.32634521e-01, 3.60363513e-01,\n",
       "        4.63512808e-01, 3.68507147e-01, 1.01030082e-01, 1.84652388e-01,\n",
       "        4.67288315e-01, 3.66194040e-01, 3.97827864e-01, 6.35504305e-01,\n",
       "        4.15687442e-01, 2.21132338e-02],\n",
       "       [2.95664310e-01, 6.42513752e-01, 4.66742426e-01, 3.49650294e-01,\n",
       "        1.67685062e-01, 8.41556847e-01, 5.97358167e-01, 5.88984013e-01,\n",
       "        4.89546269e-01, 5.61231315e-01, 4.04818445e-01, 2.00398415e-01,\n",
       "        1.52867556e-01, 2.32312173e-01, 2.48350054e-01, 7.35970259e-01,\n",
       "        3.72948796e-01, 1.69047832e-01, 4.06706870e-01, 2.02944189e-01,\n",
       "        1.34505451e-01, 2.16411114e-01, 4.74520922e-02, 7.17740953e-02,\n",
       "        1.33625150e-01, 2.12226510e-01, 3.94982934e-01, 6.36872351e-02,\n",
       "        6.90467298e-01, 4.14339006e-01, 4.79878187e-02, 1.27541274e-01,\n",
       "        5.31800687e-02, 2.59345889e-01, 1.54462785e-01, 2.49485910e-01,\n",
       "        5.23557007e-01, 4.81238931e-01, 9.02045965e-02, 1.25700593e-01,\n",
       "        2.24361122e-02, 4.07845318e-01, 3.44128072e-01, 4.39839482e-01,\n",
       "        4.74189430e-01, 5.75163662e-01, 2.40728348e-01, 5.12007773e-01,\n",
       "        1.00224316e-02, 1.47444338e-01, 5.17996550e-02, 2.04004884e-01,\n",
       "        1.93868548e-01, 2.97117561e-01, 5.46413541e-01, 2.54402816e-01,\n",
       "        4.54390347e-02, 6.41098320e-02, 5.03611565e-03, 2.97001421e-01,\n",
       "        1.98122054e-01, 4.51271832e-02],\n",
       "       [4.57399935e-01, 5.66976368e-01, 4.03399378e-01, 1.95892632e-01,\n",
       "        4.61771399e-01, 3.87933463e-01, 6.13189399e-01, 3.61192703e-01,\n",
       "        2.63249278e-01, 2.17819422e-01, 4.70143706e-01, 1.50635540e-01,\n",
       "        1.49186462e-01, 4.62959766e-01, 1.52362287e-01, 3.84922206e-01,\n",
       "        6.35010898e-01, 3.02010000e-01, 2.16232121e-01, 5.31035006e-01,\n",
       "        1.44218385e-01, 3.86684984e-01, 2.38019913e-01, 5.84103942e-01,\n",
       "        2.89524555e-01, 5.79762757e-02, 8.57310534e-01, 1.17421091e-01,\n",
       "        4.36955899e-01, 2.25043356e-01, 4.12710816e-01, 5.70243657e-01,\n",
       "        3.09378833e-01, 3.79997075e-01, 9.96962488e-02, 5.87953329e-02,\n",
       "        7.05247462e-01, 6.63529396e-01, 1.20029867e-01, 7.31398821e-01,\n",
       "        4.57457900e-02, 2.30790526e-01, 2.12555796e-01, 7.36302376e-01,\n",
       "        5.24682105e-01, 4.30982023e-01, 6.34699821e-01, 4.98680234e-01,\n",
       "        4.39434350e-02, 4.90382373e-01, 5.73149621e-02, 2.16685921e-01,\n",
       "        4.74987537e-01, 1.78637803e-01, 1.15532845e-01, 2.26747900e-01,\n",
       "        3.03753853e-01, 1.96947306e-01, 2.32543707e-01, 6.23765528e-01,\n",
       "        3.95129591e-01, 2.32435763e-02],\n",
       "       [4.25209612e-01, 4.02404845e-01, 2.53048718e-01, 8.13255012e-02,\n",
       "        9.81815755e-02, 3.33739251e-01, 6.13559484e-01, 1.59005165e-01,\n",
       "        1.52515411e-01, 2.70062596e-01, 7.72360921e-01, 4.69052732e-01,\n",
       "        4.37543690e-02, 4.19910848e-01, 4.93226647e-02, 2.44338602e-01,\n",
       "        5.07702768e-01, 4.67275411e-01, 2.73412287e-01, 6.65738881e-02,\n",
       "        1.70673937e-01, 5.83627880e-01, 1.71016932e-01, 3.11788738e-01,\n",
       "        6.18000865e-01, 1.16929263e-01, 5.62527120e-01, 1.33441359e-01,\n",
       "        2.33636171e-01, 1.61660939e-01, 2.14321971e-01, 5.00624895e-01,\n",
       "        5.26612401e-01, 1.71872199e-01, 3.85280252e-02, 1.44245327e-02,\n",
       "        2.39016294e-01, 5.48760772e-01, 1.21743500e-01, 3.59384358e-01,\n",
       "        1.57867700e-01, 1.99675590e-01, 1.52889192e-02, 9.26075816e-01,\n",
       "        7.00681508e-02, 6.27682507e-02, 7.04641044e-02, 2.81242490e-01,\n",
       "        1.25253826e-01, 9.09247279e-01, 3.77508700e-02, 2.50077128e-01,\n",
       "        7.13158548e-02, 5.94797492e-01, 6.64673746e-02, 3.16285968e-01,\n",
       "        2.67981559e-01, 3.76053959e-01, 1.67650223e-01, 2.96441913e-01,\n",
       "        1.93046361e-01, 4.98652458e-03],\n",
       "       [7.09629893e-01, 4.45452452e-01, 1.62857562e-01, 2.57512242e-01,\n",
       "        2.23642766e-01, 1.74884111e-01, 7.33365834e-01, 1.58912241e-01,\n",
       "        3.52916121e-01, 1.55984521e-01, 7.25662827e-01, 1.95472896e-01,\n",
       "        1.48118943e-01, 7.11058736e-01, 1.25751942e-01, 1.95263833e-01,\n",
       "        4.55738038e-01, 4.63793665e-01, 3.72841001e-01, 2.48928875e-01,\n",
       "        2.04840958e-01, 3.92608434e-01, 3.25921834e-01, 6.04084492e-01,\n",
       "        6.66455984e-01, 6.60687685e-02, 8.04425776e-01, 1.65379643e-01,\n",
       "        2.63254642e-01, 1.66458219e-01, 7.22666144e-01, 6.57036841e-01,\n",
       "        5.77877700e-01, 1.96309596e-01, 1.28446221e-01, 5.25422096e-02,\n",
       "        6.92186713e-01, 6.61986649e-01, 1.60153359e-01, 7.42384791e-01,\n",
       "        7.06184208e-02, 7.95071423e-02, 2.00285673e-01, 5.28582335e-01,\n",
       "        2.07366526e-01, 3.30216676e-01, 3.78712296e-01, 3.72465730e-01,\n",
       "        1.17194176e-01, 6.84552073e-01, 3.43867004e-01, 2.51077116e-01,\n",
       "        5.16845167e-01, 2.85747945e-01, 8.96667242e-02, 2.29614496e-01,\n",
       "        4.36831534e-01, 2.96937615e-01, 3.62233400e-01, 4.47346330e-01,\n",
       "        2.90416181e-01, 1.37827396e-02],\n",
       "       [7.69052565e-01, 5.93552113e-01, 4.05704021e-01, 1.03784025e-01,\n",
       "        2.31091887e-01, 1.40240282e-01, 3.31684649e-01, 2.18944341e-01,\n",
       "        1.31582409e-01, 1.02833241e-01, 3.83281231e-01, 4.12870646e-01,\n",
       "        1.90138191e-01, 7.36808002e-01, 1.31722301e-01, 1.63880646e-01,\n",
       "        3.58180374e-01, 3.87670517e-01, 3.20876271e-01, 1.49115622e-01,\n",
       "        3.34888339e-01, 5.39933324e-01, 3.95914942e-01, 6.55313015e-01,\n",
       "        5.43462813e-01, 2.70552099e-01, 5.11785150e-01, 2.17770964e-01,\n",
       "        7.16950297e-02, 5.83631396e-02, 5.46037018e-01, 5.43011010e-01,\n",
       "        6.16934001e-01, 9.58482921e-02, 7.78421164e-02, 1.05088085e-01,\n",
       "        5.14377058e-01, 3.70520532e-01, 3.85895550e-01, 6.21611655e-01,\n",
       "        3.66145492e-01, 1.23297334e-01, 1.81575537e-01, 6.92912698e-01,\n",
       "        2.69100606e-01, 1.26540899e-01, 4.72074717e-01, 5.97980976e-01,\n",
       "        1.22856289e-01, 6.52542591e-01, 1.69319689e-01, 2.96155304e-01,\n",
       "        2.07422376e-01, 3.39081168e-01, 3.30027938e-02, 2.51502573e-01,\n",
       "        3.51609081e-01, 3.20205480e-01, 6.72690988e-01, 2.55946159e-01,\n",
       "        2.11895943e-01, 4.80493307e-02],\n",
       "       [3.31906080e-01, 2.39815325e-01, 7.17069149e-01, 5.78027964e-03,\n",
       "        5.57315648e-02, 2.71597981e-01, 6.57672882e-01, 2.11944550e-01,\n",
       "        9.40077603e-02, 9.96077061e-03, 6.47857189e-02, 2.32856870e-02,\n",
       "        6.53792024e-02, 1.48200303e-01, 5.31610668e-01, 9.52120304e-01,\n",
       "        5.68207502e-01, 5.17261028e-03, 2.71708459e-01, 2.35814750e-01,\n",
       "        7.09573328e-01, 5.49027324e-01, 4.71651554e-03, 3.04136992e-01,\n",
       "        2.21775174e-02, 1.89175814e-01, 9.61241364e-01, 4.89933789e-02,\n",
       "        2.18952030e-01, 2.47994483e-01, 1.44598305e-01, 7.74710178e-02,\n",
       "        3.48459482e-02, 2.65820622e-02, 1.56909227e-03, 4.03872728e-02,\n",
       "        9.08685625e-01, 3.06170881e-02, 1.03393435e-01, 7.64368296e-01,\n",
       "        3.49099040e-02, 6.10600114e-01, 1.80904567e-02, 1.98310614e-02,\n",
       "        7.12125003e-02, 6.08438849e-02, 5.37536144e-01, 4.05013829e-01,\n",
       "        9.65058804e-04, 1.56585246e-01, 5.57711720e-03, 5.17685831e-01,\n",
       "        7.72323906e-02, 1.50453389e-01, 1.64153874e-02, 5.87771475e-01,\n",
       "        1.96304590e-01, 6.75314665e-03, 5.16037941e-02, 8.45388472e-02,\n",
       "        3.34224999e-02, 9.31173563e-03],\n",
       "       [9.70146179e-01, 6.21673465e-02, 6.11082315e-02, 1.96927786e-03,\n",
       "        2.98016667e-02, 1.98700130e-02, 9.57577169e-01, 8.75764191e-02,\n",
       "        2.97026634e-02, 7.31721520e-03, 3.63377035e-01, 1.94367856e-01,\n",
       "        2.80207396e-03, 7.61462867e-01, 4.98893857e-03, 1.55603886e-03,\n",
       "        3.95781010e-01, 6.74040020e-02, 6.79963827e-03, 4.37062979e-03,\n",
       "        6.17873669e-03, 5.23748696e-01, 2.91770697e-03, 1.86948150e-01,\n",
       "        7.15329289e-01, 3.40068340e-03, 8.00188780e-01, 2.42629647e-03,\n",
       "        9.00879502e-02, 3.46860588e-02, 9.51391220e-01, 4.66197550e-01,\n",
       "        7.91224003e-01, 1.97733462e-01, 8.61185789e-03, 8.47727060e-04,\n",
       "        5.48181474e-01, 5.53009629e-01, 6.41559958e-02, 8.22285414e-01,\n",
       "        5.91933727e-04, 1.33824348e-03, 5.43251634e-03, 9.31825459e-01,\n",
       "        1.19263232e-02, 3.87251377e-04, 2.27987170e-02, 8.92592072e-02,\n",
       "        2.64641643e-02, 8.55125070e-01, 1.22025609e-03, 3.14247608e-03,\n",
       "        5.01333475e-02, 2.59324878e-01, 1.06856227e-03, 1.03952378e-01,\n",
       "        9.75310683e-01, 2.44948775e-01, 2.43984759e-02, 6.84983432e-02,\n",
       "        1.63605899e-01, 2.75554567e-06],\n",
       "       [1.67990476e-01, 9.50202942e-02, 9.54707861e-01, 2.92634964e-03,\n",
       "        2.90792942e-01, 1.78713202e-02, 9.29497719e-01, 2.57485867e-01,\n",
       "        1.12857819e-02, 3.79756093e-03, 3.33753526e-02, 7.84581304e-02,\n",
       "        1.59887969e-02, 1.08610332e-01, 2.88754702e-04, 1.24968588e-02,\n",
       "        1.44699216e-01, 3.28654945e-01, 1.02598131e-01, 3.50298524e-01,\n",
       "        2.22342014e-01, 6.51368976e-01, 1.38603747e-02, 1.49218678e-01,\n",
       "        5.54920137e-02, 2.99492478e-02, 1.37250066e-01, 1.76858604e-02,\n",
       "        4.66882288e-02, 2.00121999e-02, 8.87285590e-01, 1.20695800e-01,\n",
       "        8.62864077e-01, 2.56953597e-01, 2.16346651e-01, 3.79189849e-03,\n",
       "        3.07354033e-01, 4.73800719e-01, 3.04350257e-03, 7.58939326e-01,\n",
       "        1.21078193e-02, 6.08329177e-02, 2.71539986e-02, 9.25100684e-01,\n",
       "        7.88901210e-01, 1.77174807e-03, 5.69235265e-01, 6.72884583e-01,\n",
       "        1.44973397e-03, 7.08670020e-02, 2.52306461e-04, 2.92426348e-03,\n",
       "        9.68374908e-02, 1.00052357e-02, 2.47210264e-04, 2.27128953e-01,\n",
       "        6.52224839e-01, 5.65865517e-01, 1.04433298e-01, 1.20555848e-01,\n",
       "        3.35740834e-01, 1.47038698e-03],\n",
       "       [2.41412997e-01, 1.81053698e-01, 5.87896705e-01, 1.30595565e-02,\n",
       "        2.99874246e-02, 7.68072605e-02, 9.19822335e-01, 1.00998878e-01,\n",
       "        6.51420057e-02, 2.21665204e-02, 3.57451439e-01, 1.79902613e-01,\n",
       "        3.23578000e-01, 3.27117264e-01, 1.32899582e-02, 3.59947979e-02,\n",
       "        8.23666692e-01, 7.15639830e-01, 3.00498605e-02, 2.24384069e-02,\n",
       "        6.55723751e-01, 8.95855308e-01, 1.11503094e-01, 8.54109645e-01,\n",
       "        5.24109602e-02, 7.74372518e-02, 5.20383477e-01, 3.07454348e-01,\n",
       "        8.28760564e-02, 4.12963927e-02, 2.44875580e-01, 3.34258735e-01,\n",
       "        6.90770864e-01, 1.49086773e-01, 1.26899481e-02, 4.03085053e-02,\n",
       "        7.39474893e-01, 8.50518286e-01, 4.85816151e-01, 8.64836633e-01,\n",
       "        4.18820083e-02, 1.35529011e-01, 1.47449374e-02, 8.32320690e-01,\n",
       "        3.40550661e-01, 7.67623484e-02, 7.75190115e-01, 1.80606812e-01,\n",
       "        4.10285592e-03, 5.47764301e-01, 1.04528666e-02, 7.20045865e-02,\n",
       "        3.64967585e-02, 4.02303934e-02, 4.36896086e-03, 9.34912264e-02,\n",
       "        6.79465830e-02, 9.82230604e-02, 3.12383592e-01, 3.72984707e-01,\n",
       "        5.66618145e-02, 5.50264120e-03],\n",
       "       [6.27821565e-01, 5.07712781e-01, 7.68291593e-01, 9.22152996e-02,\n",
       "        5.95430434e-02, 1.97664022e-01, 5.27975857e-01, 3.44384551e-01,\n",
       "        1.07812375e-01, 1.06045038e-01, 2.93185443e-01, 1.65507406e-01,\n",
       "        2.12568134e-01, 5.28122187e-01, 1.67500347e-01, 3.23002279e-01,\n",
       "        5.92359602e-01, 8.37862194e-02, 3.37112248e-01, 1.81090325e-01,\n",
       "        1.92530572e-01, 6.26854122e-01, 3.49073112e-02, 2.60251999e-01,\n",
       "        3.49085450e-01, 1.64284557e-01, 7.21378446e-01, 1.51691228e-01,\n",
       "        3.56360137e-01, 2.81133175e-01, 5.76297760e-01, 3.61938953e-01,\n",
       "        3.66905093e-01, 1.16491407e-01, 6.57309294e-02, 1.68694884e-01,\n",
       "        6.55980349e-01, 2.99406111e-01, 4.26545262e-01, 4.33220416e-01,\n",
       "        5.78556955e-02, 1.37012333e-01, 1.69181019e-01, 5.10279417e-01,\n",
       "        2.31474191e-01, 8.04002881e-02, 4.86241728e-01, 5.94577432e-01,\n",
       "        4.33713794e-02, 3.81528199e-01, 5.30785918e-02, 4.24964905e-01,\n",
       "        1.74115717e-01, 2.73612678e-01, 5.54980934e-02, 1.03705376e-01,\n",
       "        4.37661737e-01, 2.29817957e-01, 1.34929806e-01, 2.66532898e-01,\n",
       "        1.13409132e-01, 1.41915083e-02],\n",
       "       [7.34043241e-01, 4.84672010e-01, 1.36564970e-01, 1.78653657e-01,\n",
       "        7.80487955e-02, 5.81211448e-02, 7.66691089e-01, 3.03156048e-01,\n",
       "        1.55979782e-01, 1.83455497e-01, 1.42803997e-01, 3.97747338e-01,\n",
       "        1.57288194e-01, 8.01093578e-01, 2.95346379e-02, 4.04100120e-02,\n",
       "        1.86113387e-01, 1.13457173e-01, 1.99491024e-01, 1.91567540e-01,\n",
       "        1.10324115e-01, 1.44458950e-01, 1.66389912e-01, 3.31256568e-01,\n",
       "        5.61794877e-01, 1.02935135e-01, 4.72858995e-01, 7.86999166e-02,\n",
       "        4.06939685e-02, 1.76942855e-01, 6.71660960e-01, 3.88069510e-01,\n",
       "        4.59477544e-01, 9.55097675e-02, 1.92785531e-01, 2.98694968e-02,\n",
       "        2.99043596e-01, 5.00353992e-01, 1.79700553e-01, 3.34852338e-01,\n",
       "        1.97439790e-02, 2.80963480e-02, 2.64608532e-01, 2.56303251e-01,\n",
       "        5.96639514e-01, 3.95443141e-02, 1.09056592e-01, 4.48744178e-01,\n",
       "        6.25796914e-02, 4.42326695e-01, 3.34515363e-01, 8.25675428e-02,\n",
       "        4.90569651e-01, 5.29032588e-01, 2.12674439e-02, 4.05033946e-01,\n",
       "        4.74549145e-01, 3.62321168e-01, 4.23254699e-01, 2.51253545e-02,\n",
       "        2.94052213e-01, 4.75466251e-03],\n",
       "       [6.25773787e-01, 6.21747613e-01, 4.55102742e-01, 3.65422785e-01,\n",
       "        7.81764090e-02, 3.34760487e-01, 3.97602767e-01, 3.40435207e-02,\n",
       "        5.98418415e-02, 8.24401677e-02, 1.68945760e-01, 4.81365621e-01,\n",
       "        3.53947252e-01, 4.73987341e-01, 2.88574636e-01, 8.03578496e-02,\n",
       "        8.32179546e-01, 3.12181711e-02, 2.52077073e-01, 9.25107896e-02,\n",
       "        5.38840890e-02, 7.61354864e-01, 7.17086196e-02, 4.17946815e-01,\n",
       "        4.83219564e-01, 9.01856124e-02, 4.20401216e-01, 1.22483343e-01,\n",
       "        1.61697179e-01, 3.38162184e-02, 2.52582669e-01, 1.99947834e-01,\n",
       "        1.21443003e-01, 1.67320669e-02, 2.36564279e-02, 1.38412744e-01,\n",
       "        3.47828209e-01, 1.38275355e-01, 6.45476937e-01, 5.32488346e-01,\n",
       "        4.13273275e-01, 1.50608867e-01, 1.56481683e-01, 7.11127222e-01,\n",
       "        1.33990765e-01, 9.61639881e-02, 2.01780945e-01, 4.91391689e-01,\n",
       "        8.16684961e-03, 6.37176394e-01, 7.15596378e-02, 4.63701338e-01,\n",
       "        3.10605884e-01, 6.37014210e-01, 7.53981769e-02, 1.42181903e-01,\n",
       "        2.53743351e-01, 1.15734845e-01, 2.34508991e-01, 7.53294826e-02,\n",
       "        9.25553143e-02, 3.34020853e-02],\n",
       "       [4.43746090e-01, 2.16623127e-01, 3.58453065e-01, 2.38314092e-01,\n",
       "        8.30453336e-02, 6.66487098e-01, 4.70143557e-01, 2.18213737e-01,\n",
       "        2.08147109e-01, 5.44061780e-01, 6.60828650e-01, 5.61972916e-01,\n",
       "        4.28848267e-01, 3.46980929e-01, 2.96361804e-01, 2.03582674e-01,\n",
       "        3.65660340e-01, 2.22730458e-01, 8.52038860e-02, 3.58341336e-02,\n",
       "        4.95386332e-01, 6.22576356e-01, 2.46082723e-01, 4.07485276e-01,\n",
       "        3.25196683e-01, 2.97050536e-01, 6.27017438e-01, 3.92952263e-01,\n",
       "        4.14518595e-01, 1.01538122e-01, 2.00018287e-01, 1.45675898e-01,\n",
       "        2.45693445e-01, 8.94557834e-02, 7.86720812e-02, 2.55764842e-01,\n",
       "        4.90938574e-01, 1.75180793e-01, 7.93316007e-01, 2.37318337e-01,\n",
       "        2.23754317e-01, 3.45354557e-01, 9.38075185e-02, 3.10816407e-01,\n",
       "        1.33004814e-01, 2.48005152e-01, 2.90120035e-01, 1.10488564e-01,\n",
       "        1.42934352e-01, 6.31485462e-01, 1.59552515e-01, 1.77421987e-01,\n",
       "        1.71443969e-01, 3.45857739e-01, 1.97290748e-01, 2.89297640e-01,\n",
       "        1.11043930e-01, 1.45228565e-01, 1.66031629e-01, 2.82543778e-01,\n",
       "        2.85153359e-01, 7.65852332e-02],\n",
       "       [1.55903697e-01, 3.56298864e-01, 9.64229047e-01, 2.39390224e-01,\n",
       "        5.48061728e-03, 3.62157941e-01, 4.22200412e-01, 2.72782147e-02,\n",
       "        5.81720471e-03, 1.60201192e-02, 1.60209537e-02, 2.09339708e-01,\n",
       "        6.53125763e-01, 3.42845023e-01, 6.61648393e-01, 1.37867212e-01,\n",
       "        7.67889619e-01, 5.89561462e-03, 4.60456014e-02, 1.18846595e-02,\n",
       "        1.09403998e-01, 9.66319501e-01, 7.64340162e-04, 2.79877305e-01,\n",
       "        1.80487633e-02, 6.31856501e-01, 3.18337291e-01, 6.73795521e-01,\n",
       "        3.92716736e-01, 1.48910284e-02, 5.40399551e-03, 1.57184601e-02,\n",
       "        2.24918127e-04, 2.63333321e-04, 5.37892120e-05, 7.64571309e-01,\n",
       "        4.56343770e-01, 1.68231428e-02, 9.84775066e-01, 1.20552629e-01,\n",
       "        2.48973936e-01, 3.08665991e-01, 9.30187106e-03, 4.37162846e-01,\n",
       "        5.62534034e-02, 2.50222981e-02, 8.02161157e-01, 1.80997849e-02,\n",
       "        5.24284587e-07, 9.28666890e-02, 2.84105539e-04, 4.38690424e-01,\n",
       "        4.25419509e-02, 1.16198063e-02, 6.36649132e-03, 1.30556464e-01,\n",
       "        7.18533993e-04, 2.37345695e-04, 3.44693661e-04, 3.67720127e-02,\n",
       "        4.29749489e-03, 4.56799269e-02]], dtype=float32)"
      ]
     },
     "execution_count": 35,
     "metadata": {},
     "output_type": "execute_result"
    }
   ],
   "source": [
    "predict"
   ]
  },
  {
   "cell_type": "code",
   "execution_count": 94,
   "id": "5603697c-2c8f-4dd1-be69-e884d6a0eb1f",
   "metadata": {},
   "outputs": [],
   "source": [
    "pred = predict.argmax()"
   ]
  },
  {
   "cell_type": "code",
   "execution_count": 445,
   "id": "5eae4868-4be7-44d7-b036-c58b7b56ce88",
   "metadata": {},
   "outputs": [
    {
     "data": {
      "text/plain": [
       "11"
      ]
     },
     "execution_count": 445,
     "metadata": {},
     "output_type": "execute_result"
    }
   ],
   "source": [
    "pred"
   ]
  },
  {
   "cell_type": "code",
   "execution_count": 152,
   "id": "153fbbb6-e205-420a-bd46-393f8b7194b1",
   "metadata": {},
   "outputs": [
    {
     "data": {
      "image/png": "[encoded data removed]",
      "text/plain": [
       "<Figure size 1440x720 with 10 Axes>"
      ]
     },
     "metadata": {
      "needs_background": "light"
     },
     "output_type": "display_data"
    }
   ],
   "source": [
    "plt.figure(figsize=(20,10))\n",
    "for i in range(10):\n",
    "    plt.subplot(2,5,i+1)\n",
    "    plt.imshow(imlist[i])\n",
    "    pred = predict[i].argmax()\n",
    "    fin=translate(pred)\n",
    "    plt.title(\"predicted: {}\".format(fin))\n",
    "    plt.axis('off')\n",
    "\n",
    "plt.show()"
   ]
  },
  {
   "cell_type": "code",
   "execution_count": null,
   "id": "41481e7f-2751-4184-88fa-8cc2dc60eea7",
   "metadata": {},
   "outputs": [],
   "source": []
  },
  {
   "cell_type": "code",
   "execution_count": 505,
   "id": "7a7b19f2-6c74-4a49-b0ec-47126c972166",
   "metadata": {},
   "outputs": [],
   "source": [
    "keywords={\n",
    "    \"0\":\"0\",\n",
    "    \"1\":\"1\",\n",
    "    \"2\":\"2\",\n",
    "    \"3\":\"3\",\n",
    "    \"4\":\"4\",\n",
    "    \"5\":\"5\",\n",
    "    \"6\":\"6\",\n",
    "    \"7\":\"7\",\n",
    "    \"8\":\"8\",\n",
    "    \"9\":\"9\",\n",
    "    \"10\":\"A\",\n",
    "    \"11\":\"B\",\n",
    "    \"12\":\"C\",\n",
    "    \"13\":\"D\",\n",
    "    \"14\":\"E\",\n",
    "    \"15\":\"F\",\n",
    "    \"16\":\"G\",\n",
    "    \"17\":\"H\",\n",
    "    \"18\":\"I\",\n",
    "    \"19\":\"J\",\n",
    "    \"20\":\"K\",\n",
    "    \"21\":\"L\",\n",
    "    \"22\":\"M\",\n",
    "    \"23\":\"N\",\n",
    "    \"24\":\"O\",\n",
    "    \"25\":\"P\",\n",
    "    \"26\":\"Q\",\n",
    "    \"27\":\"R\",\n",
    "    \"28\":\"S\",\n",
    "    \"29\":\"T\",\n",
    "    \"30\":\"U\",\n",
    "    \"31\":\"V\",\n",
    "    \"32\":\"W\",\n",
    "    \"33\":\"X\",\n",
    "    \"34\":\"Y\",\n",
    "    \"35\":\"Z\",\n",
    "    \"36\":\"a\",\n",
    "    \"37\":\"b\",\n",
    "    \"38\":\"c\",\n",
    "    \"39\":\"d\",\n",
    "    \"40\":\"e\",\n",
    "    \"41\":\"f\",\n",
    "    \"42\":\"g\",\n",
    "    \"43\":\"h\",\n",
    "    \"44\":\"i\",\n",
    "    \"45\":\"j\",\n",
    "    \"46\":\"k\",\n",
    "    \"47\":\"l\",\n",
    "    \"48\":\"m\",\n",
    "    \"49\":\"n\",\n",
    "    \"50\":\"o\",\n",
    "    \"51\":\"p\",\n",
    "    \"52\":\"q\",\n",
    "    \"53\":\"r\",\n",
    "    \"54\":\"s\",\n",
    "    \"55\":\"t\",\n",
    "    \"56\":\"u\",\n",
    "    \"57\":\"v\",\n",
    "    \"58\":\"w\",\n",
    "    \"59\":\"x\",\n",
    "    \"60\":\"y\",\n",
    "    \"61\":\"z\",  \n",
    "}"
   ]
  },
  {
   "cell_type": "code",
   "execution_count": 49,
   "id": "bf2ba3cc-07be-46f9-b162-b141cf331ba8",
   "metadata": {},
   "outputs": [],
   "source": [
    "def translate(pred):\n",
    "    keywords={\n",
    "    0:\"0\",\n",
    "    1:\"1\",\n",
    "    2:\"2\",\n",
    "    3:\"3\",\n",
    "    4:\"4\",\n",
    "    5:\"5\",\n",
    "    6:\"6\",\n",
    "    7:\"7\",\n",
    "    8:\"8\",\n",
    "    9:\"9\",\n",
    "    10:\"A\",\n",
    "    11:\"B\",\n",
    "    12:\"C\",\n",
    "    13:\"D\",\n",
    "    14:\"E\",\n",
    "    15:\"F\",\n",
    "    16:\"G\",\n",
    "    17:\"H\",\n",
    "    18:\"I\",\n",
    "    19:\"J\",\n",
    "    20:\"K\",\n",
    "    21:\"L\",\n",
    "    22:\"M\",\n",
    "    23:\"N\",\n",
    "    24:\"O\",\n",
    "    25:\"P\",\n",
    "    26:\"Q\",\n",
    "    27:\"R\",\n",
    "    28:\"S\",\n",
    "    29:\"T\",\n",
    "    30:\"U\",\n",
    "    31:\"V\",\n",
    "    32:\"W\",\n",
    "    33:\"X\",\n",
    "    34:\"Y\",\n",
    "    35:\"Z\",\n",
    "    36:\"a\",\n",
    "    37:\"b\",\n",
    "    38:\"c\",\n",
    "    39:\"d\",\n",
    "    40:\"e\",\n",
    "    41:\"f\",\n",
    "    42:\"g\",\n",
    "    43:\"h\",\n",
    "    44:\"i\",\n",
    "    45:\"j\",\n",
    "    46:\"k\",\n",
    "    47:\"l\",\n",
    "    48:\"m\",\n",
    "    49:\"n\",\n",
    "    50:\"o\",\n",
    "    51:\"p\",\n",
    "    52:\"q\",\n",
    "    53:\"r\",\n",
    "    54:\"s\",\n",
    "    55:\"t\",\n",
    "    56:\"u\",\n",
    "    57:\"v\",\n",
    "    58:\"w\",\n",
    "    59:\"x\",\n",
    "    60:\"y\",\n",
    "    61:\"z\",  \n",
    "}\n",
    "    return keywords[pred]"
   ]
  },
  {
   "cell_type": "code",
   "execution_count": 23,
   "id": "f5150d42-160e-46f4-9491-4ed071e1bade",
   "metadata": {},
   "outputs": [
    {
     "data": {
      "text/plain": [
       "'1'"
      ]
     },
     "execution_count": 23,
     "metadata": {},
     "output_type": "execute_result"
    }
   ],
   "source": [
    "translate(1)"
   ]
  },
  {
   "cell_type": "code",
   "execution_count": null,
   "id": "bbcce7b1-7672-4858-87c3-14d30812a777",
   "metadata": {},
   "outputs": [],
   "source": []
  }
 ],
 "metadata": {
  "kernelspec": {
   "display_name": "Python 3 (ipykernel)",
   "language": "python",
   "name": "python3"
  },
  "language_info": {
   "codemirror_mode": {
    "name": "ipython",
    "version": 3
   },
   "file_extension": ".py",
   "mimetype": "text/x-python",
   "name": "python",
   "nbconvert_exporter": "python",
   "pygments_lexer": "ipython3",
   "version": "3.9.7"
  }
 },
 "nbformat": 4,
 "nbformat_minor": 5
}
